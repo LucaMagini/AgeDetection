{
 "cells": [
  {
   "cell_type": "markdown",
   "id": "5c9936f4",
   "metadata": {},
   "source": [
    "# Train - Dev - Test "
   ]
  },
  {
   "cell_type": "code",
   "execution_count": 60,
   "id": "afd5982f",
   "metadata": {},
   "outputs": [],
   "source": [
    "import tensorflow as tf\n",
    "import keras\n",
    "import numpy as np\n",
    "import pandas as pd"
   ]
  },
  {
   "cell_type": "code",
   "execution_count": 61,
   "id": "f5b35caa",
   "metadata": {},
   "outputs": [],
   "source": [
    "#Generare un Dataframe TensorFlow\n",
    "#image_dataset_from_directory generates a tf.data.Dataset from image files in a directory that yield batches of images \n",
    "#from the sub-directories or class directory within the main directory and labels that is the sub-directory name\n",
    "#pip install tf-nightly , version update every night or something like that\n",
    "#The specific function (tf.keras.preprocessing.image_dataset_from_directory) is not available under TensorFlow v2.1.x or v2.2.0 yet.\n",
    "#It is only available with the tf-nightly builds and is existent in the source code of the master branch.\n",
    "\n",
    "comb_path = \"../Data/Combined_Images\"\n",
    "#tf_dataset = tf.keras.preprocessing.image_dataset_from_directory(comb_path, seed=41, image_size=(200, 200), batch_size=64)"
   ]
  },
  {
   "cell_type": "code",
   "execution_count": 62,
   "id": "87bd635b",
   "metadata": {},
   "outputs": [],
   "source": [
    "# def get_dataset_partitions_tf(ds, ds_size, train_split=0.6, val_split=0.2, test_split=0.2, shuffle=True, shuffle_size=200):\n",
    "#     assert (train_split + test_split + val_split) == 1\n",
    "    \n",
    "#     if shuffle:\n",
    "#         # Specify seed to always have the same split distribution between runs\n",
    "#         ds = ds.shuffle(shuffle_size, seed=12)\n",
    "    \n",
    "#     train_size = int(train_split * ds_size)\n",
    "#     val_size = int(val_split * ds_size)\n",
    "    \n",
    "#     train_ds = ds.take(train_size)    \n",
    "#     val_ds = ds.skip(train_size).take(val_size)\n",
    "#     test_ds = ds.skip(train_size).skip(val_size)\n",
    "    \n",
    "#     return train_ds, val_ds, test_ds"
   ]
  },
  {
   "cell_type": "markdown",
   "id": "8acb50b6",
   "metadata": {},
   "source": [
    "In short, there is not a good way to get the size/length; tf.data.Dataset is built for pipelines of data, so has an iterator structure (in my understanding and according to my read of the Dataset ops code. From the programmer's guide:\n",
    "\n",
    "A tf.data.Iterator provides the main way to extract elements from a dataset. The operation returned by Iterator.get_next() yields the next element of a Dataset when executed, and typically acts as the interface between input pipeline code and your model.\n",
    "\n",
    "And, by their nature, iterators do not have a convenient notion of size/length; see here: Getting number of elements in an iterator in Python"
   ]
  },
  {
   "cell_type": "code",
   "execution_count": 63,
   "id": "e67296f7",
   "metadata": {},
   "outputs": [
    {
     "name": "stdout",
     "output_type": "stream",
     "text": [
      "Found 33884 files belonging to 8 classes.\n",
      "Using 27108 files for training.\n",
      "Found 33884 files belonging to 8 classes.\n",
      "Using 6776 files for validation.\n",
      "Batches for training --> tf.Tensor(848, shape=(), dtype=int64)\n",
      "Batches for validating --> tf.Tensor(106, shape=(), dtype=int64)\n",
      "Batches for testing --> tf.Tensor(106, shape=(), dtype=int64)\n"
     ]
    }
   ],
   "source": [
    "batch_size = 32\n",
    "\n",
    "train_ds = tf.keras.utils.image_dataset_from_directory(\n",
    "  comb_path,\n",
    "  validation_split=0.2,\n",
    "  subset=\"training\", #If should be return the training set (80%) or the validation set (20%)\n",
    "  seed=41, #Seed should guarantee that train_ds and val_ds doesn't have common images\n",
    "  shuffle=True,\n",
    "  image_size=(200, 200),\n",
    "  batch_size=batch_size)\n",
    "\n",
    "val_ds = tf.keras.utils.image_dataset_from_directory(\n",
    "  comb_path,\n",
    "  validation_split=0.2,\n",
    "  subset=\"validation\",\n",
    "  seed=41, \n",
    "  shuffle=True,\n",
    "  image_size=(200, 200),\n",
    "  batch_size=batch_size)\n",
    "\n",
    "test_dataset = val_ds.take(106)\n",
    "val_ds = val_ds.skip(106)\n",
    "\n",
    "print('Batches for training -->', train_ds.cardinality())\n",
    "print('Batches for validating -->', val_ds.cardinality())\n",
    "print('Batches for testing -->', test_dataset.cardinality())"
   ]
  },
  {
   "cell_type": "code",
   "execution_count": 64,
   "id": "b0c16699",
   "metadata": {},
   "outputs": [],
   "source": [
    "# model = tf.keras.Sequential([\n",
    "#   tf.keras.layers.Rescaling(1./255, input_shape=(200, 200, 3)),\n",
    "#   tf.keras.layers.Conv2D(16, 3, padding='same', activation='relu'),\n",
    "#   tf.keras.layers.MaxPooling2D(),\n",
    "#   tf.keras.layers.Conv2D(32, 3, padding='same', activation='relu'),\n",
    "#   tf.keras.layers.MaxPooling2D(),\n",
    "#   tf.keras.layers.Conv2D(64, 3, padding='same', activation='relu'),\n",
    "#   tf.keras.layers.MaxPooling2D(),\n",
    "#   tf.keras.layers.Flatten(),\n",
    "#   tf.keras.layers.Dense(128, activation='relu'),\n",
    "#   tf.keras.layers.Dense(8)\n",
    "# ])\n",
    "\n",
    "# model.compile(optimizer='adam',\n",
    "#               loss=tf.keras.losses.SparseCategoricalCrossentropy(from_logits=True),\n",
    "#               metrics=['accuracy'])\n",
    "\n",
    "# epochs=1\n",
    "# history = model.fit(\n",
    "#   train_ds,\n",
    "#   validation_data=val_ds,\n",
    "#   epochs=1\n",
    "# )"
   ]
  },
  {
   "cell_type": "code",
   "execution_count": 65,
   "id": "82d193a0",
   "metadata": {},
   "outputs": [],
   "source": [
    "ds_labels=[]\n",
    "for images, labels in train_ds.unbatch():\n",
    "    ds_labels.append(labels) # or labels.numpy().argmax() for int labels"
   ]
  },
  {
   "cell_type": "code",
   "execution_count": 66,
   "id": "a286274d",
   "metadata": {},
   "outputs": [],
   "source": [
    "train_label = np.concatenate([y for x, y in train_ds], axis=0)\n",
    "val_label = np.concatenate([y for x, y in val_ds], axis=0)\n",
    "test_label = np.concatenate([y for x, y in test_dataset], axis=0)"
   ]
  },
  {
   "cell_type": "code",
   "execution_count": 67,
   "id": "1c4463fc",
   "metadata": {},
   "outputs": [],
   "source": [
    "train_counts = pd.Series(train_label).value_counts().sort_index()\n",
    "val_counts = pd.Series(val_label).value_counts().sort_index()\n",
    "test_counts = pd.Series(test_label).value_counts().sort_index()"
   ]
  },
  {
   "cell_type": "code",
   "execution_count": 68,
   "id": "3ee55867",
   "metadata": {},
   "outputs": [
    {
     "name": "stdout",
     "output_type": "stream",
     "text": [
      "27108\n",
      "3384\n",
      "3392\n"
     ]
    }
   ],
   "source": [
    "print(len(train_label))\n",
    "print(len(val_label))\n",
    "print(len(test_label))"
   ]
  },
  {
   "cell_type": "code",
   "execution_count": 69,
   "id": "11c282ff",
   "metadata": {},
   "outputs": [
    {
     "name": "stdout",
     "output_type": "stream",
     "text": [
      "0    3910\n",
      "1    4021\n",
      "2    2388\n",
      "3    4029\n",
      "4    3798\n",
      "5    3858\n",
      "6    3991\n",
      "7    1113\n",
      "dtype: int64 \n",
      "-------------------\n",
      "0    524\n",
      "1    494\n",
      "2    289\n",
      "3    485\n",
      "4    489\n",
      "5    462\n",
      "6    502\n",
      "7    139\n",
      "dtype: int64 \n",
      "-------------------\n",
      "0    493\n",
      "1    489\n",
      "2    314\n",
      "3    501\n",
      "4    474\n",
      "5    476\n",
      "6    501\n",
      "7    144\n",
      "dtype: int64 \n",
      "-------------------\n"
     ]
    }
   ],
   "source": [
    "print(train_counts, '\\n-------------------')\n",
    "print(val_counts, '\\n-------------------')\n",
    "print(test_counts, '\\n-------------------')"
   ]
  }
 ],
 "metadata": {
  "kernelspec": {
   "display_name": "Python 3 (ipykernel)",
   "language": "python",
   "name": "python3"
  },
  "language_info": {
   "codemirror_mode": {
    "name": "ipython",
    "version": 3
   },
   "file_extension": ".py",
   "mimetype": "text/x-python",
   "name": "python",
   "nbconvert_exporter": "python",
   "pygments_lexer": "ipython3",
   "version": "3.7.11"
  }
 },
 "nbformat": 4,
 "nbformat_minor": 5
}
