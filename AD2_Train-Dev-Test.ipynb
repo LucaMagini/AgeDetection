{
 "cells": [
  {
   "cell_type": "markdown",
   "id": "5c9936f4",
   "metadata": {},
   "source": [
    "# Train - Dev - Test "
   ]
  },
  {
   "cell_type": "code",
   "execution_count": 2,
   "id": "afd5982f",
   "metadata": {},
   "outputs": [],
   "source": [
    "import tensorflow as tf\n",
    "import keras"
   ]
  },
  {
   "cell_type": "code",
   "execution_count": 3,
   "id": "f5b35caa",
   "metadata": {},
   "outputs": [
    {
     "name": "stdout",
     "output_type": "stream",
     "text": [
      "Found 33884 files belonging to 8 classes.\n"
     ]
    }
   ],
   "source": [
    "#Generare un Dataframe TensorFlow\n",
    "#image_dataset_from_directory generates a tf.data.Dataset from image files in a directory that yield batches of images \n",
    "#from the sub-directories or class directory within the main directory and labels that is the sub-directory name\n",
    "#pip install tf-nightly , version update every night or something like that\n",
    "#The specific function (tf.keras.preprocessing.image_dataset_from_directory) is not available under TensorFlow v2.1.x or v2.2.0 yet.\n",
    "#It is only available with the tf-nightly builds and is existent in the source code of the master branch.\n",
    "\n",
    "comb_path = \"../Data/Combined_Images\"\n",
    "tf_dataset = tf.keras.preprocessing.image_dataset_from_directory(comb_path, seed=41, image_size=(200, 200), batch_size=64)"
   ]
  },
  {
   "cell_type": "code",
   "execution_count": 4,
   "id": "87bd635b",
   "metadata": {},
   "outputs": [],
   "source": [
    "def get_dataset_partitions_tf(ds, ds_size, train_split=0.6, val_split=0.2, test_split=0.2, shuffle=True, shuffle_size=200):\n",
    "    assert (train_split + test_split + val_split) == 1\n",
    "    \n",
    "    if shuffle:\n",
    "        # Specify seed to always have the same split distribution between runs\n",
    "        ds = ds.shuffle(shuffle_size, seed=12)\n",
    "    \n",
    "    train_size = int(train_split * ds_size)\n",
    "    val_size = int(val_split * ds_size)\n",
    "    \n",
    "    train_ds = ds.take(train_size)    \n",
    "    val_ds = ds.skip(train_size).take(val_size)\n",
    "    test_ds = ds.skip(train_size).skip(val_size)\n",
    "    \n",
    "    return train_ds, val_ds, test_ds"
   ]
  },
  {
   "cell_type": "markdown",
   "id": "8acb50b6",
   "metadata": {},
   "source": [
    "In short, there is not a good way to get the size/length; tf.data.Dataset is built for pipelines of data, so has an iterator structure (in my understanding and according to my read of the Dataset ops code. From the programmer's guide:\n",
    "\n",
    "A tf.data.Iterator provides the main way to extract elements from a dataset. The operation returned by Iterator.get_next() yields the next element of a Dataset when executed, and typically acts as the interface between input pipeline code and your model.\n",
    "\n",
    "And, by their nature, iterators do not have a convenient notion of size/length; see here: Getting number of elements in an iterator in Python"
   ]
  },
  {
   "cell_type": "code",
   "execution_count": 5,
   "id": "e67296f7",
   "metadata": {},
   "outputs": [
    {
     "data": {
      "text/plain": [
       "(<TakeDataset element_spec=(TensorSpec(shape=(None, 200, 200, 3), dtype=tf.float32, name=None), TensorSpec(shape=(None,), dtype=tf.int32, name=None))>,\n",
       " <TakeDataset element_spec=(TensorSpec(shape=(None, 200, 200, 3), dtype=tf.float32, name=None), TensorSpec(shape=(None,), dtype=tf.int32, name=None))>,\n",
       " <SkipDataset element_spec=(TensorSpec(shape=(None, 200, 200, 3), dtype=tf.float32, name=None), TensorSpec(shape=(None,), dtype=tf.int32, name=None))>)"
      ]
     },
     "execution_count": 5,
     "metadata": {},
     "output_type": "execute_result"
    }
   ],
   "source": [
    "result = get_dataset_partitions_tf(tf_dataset, 33884)\n",
    "result"
   ]
  }
 ],
 "metadata": {
  "kernelspec": {
   "display_name": "Python 3 (ipykernel)",
   "language": "python",
   "name": "python3"
  },
  "language_info": {
   "codemirror_mode": {
    "name": "ipython",
    "version": 3
   },
   "file_extension": ".py",
   "mimetype": "text/x-python",
   "name": "python",
   "nbconvert_exporter": "python",
   "pygments_lexer": "ipython3",
   "version": "3.7.11"
  }
 },
 "nbformat": 4,
 "nbformat_minor": 5
}
