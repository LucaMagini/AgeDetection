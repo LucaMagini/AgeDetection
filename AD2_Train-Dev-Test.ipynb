{
 "cells": [
  {
   "cell_type": "markdown",
   "id": "5c9936f4",
   "metadata": {},
   "source": [
    "# Train - Dev - Test "
   ]
  },
  {
   "cell_type": "code",
   "execution_count": 1,
   "id": "afd5982f",
   "metadata": {},
   "outputs": [],
   "source": [
    "import tensorflow as tf\n",
    "import keras\n",
    "import numpy as np\n",
    "import pandas as pd\n",
    "from zipfile import ZipFile"
   ]
  },
  {
   "cell_type": "code",
   "execution_count": null,
   "id": "394a821e",
   "metadata": {},
   "outputs": [],
   "source": [
    "#GOOGLE COLAB VERSION\n",
    "gpu_info = !nvidia-smi\n",
    "gpu_info = '\\n'.join(gpu_info)\n",
    "if gpu_info.find('failed') >= 0:\n",
    "    print('Not connected to a GPU')\n",
    "else:\n",
    "    print(gpu_info)"
   ]
  },
  {
   "cell_type": "code",
   "execution_count": 2,
   "id": "f5b35caa",
   "metadata": {},
   "outputs": [],
   "source": [
    "#JUPYTER VERSION\n",
    "comb_path = \"../Data/Combined_Images\"\n",
    "\n",
    "#GOOGLE COLAB VERSION\n",
    "from google.colab import drive\n",
    "drive.mount('/content/drive')\n",
    "\n",
    "# Unzipping the dataset file facial-age.zip\n",
    "\n",
    "combined_images_path = \"/content/drive/MyDrive/Combined_Images.zip\"\n",
    "\n",
    "with ZipFile(combined_images_path, 'r') as myzip:\n",
    "    myzip.extractall()\n",
    "    print('Done unzipping Combined_Images.zip')\n",
    "\n",
    "comb_path = '../content/Combined_Images'  "
   ]
  },
  {
   "cell_type": "markdown",
   "id": "8acb50b6",
   "metadata": {},
   "source": [
    "In short, there is not a good way to get the size/length; tf.data.Dataset is built for pipelines of data, so has an iterator structure (in my understanding and according to my read of the Dataset ops code. From the programmer's guide:\n",
    "\n",
    "A tf.data.Iterator provides the main way to extract elements from a dataset. The operation returned by Iterator.get_next() yields the next element of a Dataset when executed, and typically acts as the interface between input pipeline code and your model.\n",
    "\n",
    "And, by their nature, iterators do not have a convenient notion of size/length; see here: Getting number of elements in an iterator in Python"
   ]
  },
  {
   "cell_type": "code",
   "execution_count": 3,
   "id": "e67296f7",
   "metadata": {},
   "outputs": [
    {
     "name": "stdout",
     "output_type": "stream",
     "text": [
      "Found 33884 files belonging to 8 classes.\n",
      "Using 27108 files for training.\n",
      "Found 33884 files belonging to 8 classes.\n",
      "Using 6776 files for validation.\n",
      "Batches for training --> tf.Tensor(848, shape=(), dtype=int64)\n",
      "Batches for validating --> tf.Tensor(106, shape=(), dtype=int64)\n",
      "Batches for testing --> tf.Tensor(106, shape=(), dtype=int64)\n"
     ]
    }
   ],
   "source": [
    "batch_size = 32\n",
    "\n",
    "train_ds = tf.keras.utils.image_dataset_from_directory(\n",
    "  comb_path,\n",
    "  validation_split=0.2,\n",
    "  subset=\"training\", #If should be return the training set (80%) or the validation set (20%)\n",
    "  seed=41, #Seed should guarantee that train_ds and val_ds doesn't have common images\n",
    "  shuffle=True,\n",
    "  image_size=(200, 200),\n",
    "  batch_size=batch_size)\n",
    "\n",
    "val_ds = tf.keras.utils.image_dataset_from_directory(\n",
    "  comb_path,\n",
    "  validation_split=0.2,\n",
    "  subset=\"validation\",\n",
    "  seed=41, \n",
    "  shuffle=True,\n",
    "  image_size=(200, 200),\n",
    "  batch_size=batch_size)\n",
    "\n",
    "test_dataset = val_ds.take(106)\n",
    "val_ds = val_ds.skip(106)\n",
    "\n",
    "print('Batches for training -->', train_ds.cardinality())\n",
    "print('Batches for validating -->', val_ds.cardinality())\n",
    "print('Batches for testing -->', test_dataset.cardinality())"
   ]
  },
  {
   "cell_type": "code",
   "execution_count": null,
   "id": "b0c16699",
   "metadata": {},
   "outputs": [],
   "source": [
    "model = tf.keras.Sequential([\n",
    "  tf.keras.layers.Rescaling(1./255, input_shape=(200, 200, 3)),\n",
    "  tf.keras.layers.Conv2D(16, 3, padding='same', activation='relu'),\n",
    "  tf.keras.layers.MaxPooling2D(),\n",
    "  tf.keras.layers.Conv2D(32, 3, padding='same', activation='relu'),\n",
    "  tf.keras.layers.MaxPooling2D(),\n",
    "  tf.keras.layers.Conv2D(64, 3, padding='same', activation='relu'),\n",
    "  tf.keras.layers.MaxPooling2D(),\n",
    "  tf.keras.layers.Flatten(),\n",
    "  tf.keras.layers.Dense(128, activation='relu'),\n",
    "  tf.keras.layers.Dense(8)\n",
    "])\n",
    "\n",
    "model.compile(optimizer='adam',\n",
    "              loss=tf.keras.losses.SparseCategoricalCrossentropy(from_logits=True),\n",
    "              metrics=['accuracy'])\n",
    "\n",
    "epochs=3\n",
    "history = model.fit(\n",
    "  train_ds,\n",
    "  validation_data=val_ds,\n",
    "  epochs=epochs\n",
    ")"
   ]
  },
  {
   "cell_type": "code",
   "execution_count": null,
   "id": "a286274d",
   "metadata": {},
   "outputs": [],
   "source": [
    "train_label = np.concatenate([y for x, y in train_ds], axis=0)\n",
    "val_label = np.concatenate([y for x, y in val_ds], axis=0)\n",
    "test_label = np.concatenate([y for x, y in test_dataset], axis=0)\n",
    "\n",
    "train_counts = pd.Series(train_label).value_counts().sort_index()\n",
    "val_counts = pd.Series(val_label).value_counts().sort_index()\n",
    "test_counts = pd.Series(test_label).value_counts().sort_index()\n",
    "\n",
    "print('Training Set: ', len(train_label))\n",
    "print('Validation Set: ', len(val_label))\n",
    "print('Test Set: ', len(test_label))\n",
    "\n",
    "print(train_counts, '\\n-------------------')\n",
    "print(val_counts, '\\n-------------------')\n",
    "print(test_counts, '\\n-------------------')"
   ]
  }
 ],
 "metadata": {
  "kernelspec": {
   "display_name": "Python 3 (ipykernel)",
   "language": "python",
   "name": "python3"
  },
  "language_info": {
   "codemirror_mode": {
    "name": "ipython",
    "version": 3
   },
   "file_extension": ".py",
   "mimetype": "text/x-python",
   "name": "python",
   "nbconvert_exporter": "python",
   "pygments_lexer": "ipython3",
   "version": "3.7.11"
  }
 },
 "nbformat": 4,
 "nbformat_minor": 5
}
