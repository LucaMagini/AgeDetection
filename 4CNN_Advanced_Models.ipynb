{
  "nbformat": 4,
  "nbformat_minor": 0,
  "metadata": {
    "colab": {
      "provenance": [],
      "collapsed_sections": [],
      "machine_shape": "hm",
      "authorship_tag": "ABX9TyM4sT6MspuRM/54+FBD/Seu",
      "include_colab_link": true
    },
    "kernelspec": {
      "name": "python3",
      "display_name": "Python 3"
    },
    "language_info": {
      "name": "python"
    },
    "accelerator": "GPU",
    "gpuClass": "standard"
  },
  "cells": [
    {
      "cell_type": "markdown",
      "metadata": {
        "id": "view-in-github",
        "colab_type": "text"
      },
      "source": [
        "<a href=\"https://colab.research.google.com/github/LucaMagini/AgeDetection/blob/main/4CNN_Advanced_Models.ipynb\" target=\"_parent\"><img src=\"https://colab.research.google.com/assets/colab-badge.svg\" alt=\"Open In Colab\"/></a>"
      ]
    },
    {
      "cell_type": "markdown",
      "source": [
        "# Best Deep CNN Architectures"
      ],
      "metadata": {
        "id": "oyojXh_k-98X"
      }
    },
    {
      "cell_type": "markdown",
      "source": [
        "There are many tech companies have developed active research groups for exploring new architectures of **CNN** such as Google, Microsoft or Facebook and they demonstrated that **CNN**s are one of the best learning algorithms for understanding and analyzing image content having shown high performance in image classification, detection and related tasks.  \n",
        "\n",
        "Over the years many variants of **CNN** architectures have been developed to solve real-world problems. In this notebook we are going to try some of the most known architectures on our problem expecting for better results than the basic models in the previous notebook.  \n",
        "<br />\n",
        "\n",
        "The following networks will be implemented:  \n",
        "  * **LeNet-5** (1998)\n",
        "  * **AlexNet** (2012)\n",
        "  * **GoogLeNet** (2014)  \n",
        "<br />  \n",
        "\n",
        "There are many other **CNN** architectures which have given excellent results, developed in last years, but generally they are very deep and they need a lot of computational resources to be trained in a reasonable amount of time.  \n",
        "In order to use these networks we have to overcome this kind of resources issues and we can do it through the ***transfer learning*** which is a machine learning method where we reuse a pre-trained model as a starting point fro a model on a new task.  \n",
        "We'll use this technique in the next notebook, now let's upload the data and proceed with the implementation of the networks listed above.\n"
      ],
      "metadata": {
        "id": "ShORKY7__NgS"
      }
    },
    {
      "cell_type": "markdown",
      "source": [
        "## Data Preparation"
      ],
      "metadata": {
        "id": "TQURkJIxWwhN"
      }
    },
    {
      "cell_type": "code",
      "source": [
        "#Importing the libraries\n",
        "import tensorflow as tf\n",
        "import keras\n",
        "import numpy as np\n",
        "import pandas as pd\n",
        "import matplotlib.pyplot as plt\n",
        "from zipfile import ZipFile\n",
        "from tensorflow.keras.callbacks import EarlyStopping\n",
        "from tensorflow.keras import regularizers\n",
        "from tabulate import tabulate"
      ],
      "metadata": {
        "id": "p64F4FYbLWvy"
      },
      "execution_count": null,
      "outputs": []
    },
    {
      "cell_type": "code",
      "source": [
        "#Mounting the Google Drive\n",
        "from google.colab import drive\n",
        "drive.mount('/content/drive')"
      ],
      "metadata": {
        "colab": {
          "base_uri": "https://localhost:8080/"
        },
        "id": "gQJPqoR2W5hE",
        "outputId": "25d35802-2c09-4b12-8423-1bc238b42d69"
      },
      "execution_count": null,
      "outputs": [
        {
          "output_type": "stream",
          "name": "stdout",
          "text": [
            "Mounted at /content/drive\n"
          ]
        }
      ]
    },
    {
      "cell_type": "code",
      "source": [
        "#Google Colab GPU Version\n",
        "gpu_info = !nvidia-smi\n",
        "gpu_info = '\\n'.join(gpu_info)\n",
        "if gpu_info.find('failed') >= 0:\n",
        "    print('Not connected to a GPU')\n",
        "else:\n",
        "    print(gpu_info)"
      ],
      "metadata": {
        "colab": {
          "base_uri": "https://localhost:8080/"
        },
        "id": "ooloHLSXY8tn",
        "outputId": "b1273bf7-e2f8-493f-f8af-388a3dd59e33"
      },
      "execution_count": null,
      "outputs": [
        {
          "output_type": "stream",
          "name": "stdout",
          "text": [
            "Tue Oct 25 10:08:08 2022       \n",
            "+-----------------------------------------------------------------------------+\n",
            "| NVIDIA-SMI 460.32.03    Driver Version: 460.32.03    CUDA Version: 11.2     |\n",
            "|-------------------------------+----------------------+----------------------+\n",
            "| GPU  Name        Persistence-M| Bus-Id        Disp.A | Volatile Uncorr. ECC |\n",
            "| Fan  Temp  Perf  Pwr:Usage/Cap|         Memory-Usage | GPU-Util  Compute M. |\n",
            "|                               |                      |               MIG M. |\n",
            "|===============================+======================+======================|\n",
            "|   0  Tesla T4            Off  | 00000000:00:04.0 Off |                    0 |\n",
            "| N/A   46C    P8    10W /  70W |      0MiB / 15109MiB |      0%      Default |\n",
            "|                               |                      |                  N/A |\n",
            "+-------------------------------+----------------------+----------------------+\n",
            "                                                                               \n",
            "+-----------------------------------------------------------------------------+\n",
            "| Processes:                                                                  |\n",
            "|  GPU   GI   CI        PID   Type   Process name                  GPU Memory |\n",
            "|        ID   ID                                                   Usage      |\n",
            "|=============================================================================|\n",
            "|  No running processes found                                                 |\n",
            "+-----------------------------------------------------------------------------+\n"
          ]
        }
      ]
    },
    {
      "cell_type": "code",
      "source": [
        "#Unzipping all the datasets\n",
        "train_augmented_path = '/content/drive/MyDrive/Age_Detection_Project/Data/Train_Augmented.zip'\n",
        "dev_path = '/content/drive/MyDrive/Age_Detection_Project/Data/Dev.zip'\n",
        "test_path = '/content/drive/MyDrive/Age_Detection_Project/Data/Test.zip'\n",
        "\n",
        "paths = [dev_path, test_path, train_augmented_path]\n",
        "\n",
        "for path in paths:         \n",
        "    with ZipFile(path, 'r') as myzip:\n",
        "        myzip.extractall('../content/{}'.format(path.split('/')[-1].split('.')[0]))\n",
        "        print('Done unzipping {}'.format(path.split('/')[-1]))"
      ],
      "metadata": {
        "colab": {
          "base_uri": "https://localhost:8080/"
        },
        "id": "ywyTiA8ZcN6w",
        "outputId": "b26f1108-2a39-449d-8482-bd7e0a7744a3"
      },
      "execution_count": null,
      "outputs": [
        {
          "output_type": "stream",
          "name": "stdout",
          "text": [
            "Done unzipping Dev.zip\n",
            "Done unzipping Test.zip\n",
            "Done unzipping Train_Augmented.zip\n"
          ]
        }
      ]
    },
    {
      "cell_type": "code",
      "source": [
        "#Naming the folders containing data\n",
        "train_augmented_folder = '../content/Train_Augmented'\n",
        "dev_folder = '../content/Dev'\n",
        "test_folder = '../content/Test'"
      ],
      "metadata": {
        "id": "TMiNmZ_7cuiP"
      },
      "execution_count": null,
      "outputs": []
    },
    {
      "cell_type": "code",
      "source": [
        "#Data for LeNet-5 Neural Network\n",
        "batch_size = 128\n",
        "\n",
        "train_ds_lenet5 = tf.keras.utils.image_dataset_from_directory(\n",
        "  train_augmented_folder,\n",
        "  labels='inferred',\n",
        "  label_mode='int',\n",
        "  validation_split=None, #Fraction of data reserved for validation\n",
        "  subset=None, #If we want to divide data in the folder in training and validation sets\n",
        "  seed=41, #Seed should guarantee that training and validation set haven't common images\n",
        "  shuffle=True,\n",
        "  color_mode='grayscale',\n",
        "  image_size=(32, 32),\n",
        "  batch_size=batch_size\n",
        "  )\n",
        "\n",
        "val_ds_lenet5 = tf.keras.utils.image_dataset_from_directory(\n",
        "  dev_folder,\n",
        "  labels='inferred',\n",
        "  label_mode='int',\n",
        "  validation_split=None,\n",
        "  subset=None,\n",
        "  seed=41, \n",
        "  shuffle=True,\n",
        "  color_mode='grayscale',\n",
        "  image_size=(32, 32),\n",
        "  batch_size=batch_size\n",
        "  )\n",
        "\n",
        "test_dataset_lenet5 = tf.keras.utils.image_dataset_from_directory(\n",
        "  test_folder,\n",
        "  labels='inferred',\n",
        "  label_mode='int',\n",
        "  validation_split=None,\n",
        "  subset=None,\n",
        "  seed=41, \n",
        "  shuffle=True,\n",
        "  color_mode='grayscale',\n",
        "  image_size=(32, 32),\n",
        "  batch_size=batch_size\n",
        "  )\n",
        "\n",
        "print('Batches for training -->', train_ds_lenet5.cardinality())\n",
        "print('Batches for validating -->', val_ds_lenet5.cardinality())\n",
        "print('Batches for testing -->', test_dataset_lenet5.cardinality())"
      ],
      "metadata": {
        "colab": {
          "base_uri": "https://localhost:8080/"
        },
        "id": "NEgtqNmYdD5n",
        "outputId": "a90e47a6-e982-46cf-8337-712e99cc5c73"
      },
      "execution_count": null,
      "outputs": [
        {
          "output_type": "stream",
          "name": "stdout",
          "text": [
            "Found 166026 files belonging to 8 classes.\n",
            "Found 5083 files belonging to 8 classes.\n",
            "Found 5083 files belonging to 8 classes.\n",
            "Batches for training --> tf.Tensor(1298, shape=(), dtype=int64)\n",
            "Batches for validating --> tf.Tensor(40, shape=(), dtype=int64)\n",
            "Batches for testing --> tf.Tensor(40, shape=(), dtype=int64)\n"
          ]
        }
      ]
    },
    {
      "cell_type": "code",
      "source": [
        "#Data for AlexNet Neural Network\n",
        "batch_size = 128\n",
        "\n",
        "train_ds_alexnet = tf.keras.utils.image_dataset_from_directory(\n",
        "  train_augmented_folder,\n",
        "  labels='inferred',\n",
        "  label_mode='int',\n",
        "  validation_split=None, #Fraction of data reserved for validation\n",
        "  subset=None, #If we want to divide data in the folder in training and validation sets\n",
        "  seed=41, #Seed should guarantee that training and validation set haven't common images\n",
        "  shuffle=True,\n",
        "  color_mode='rgb',\n",
        "  image_size=(227, 227),\n",
        "  batch_size=batch_size\n",
        "  )\n",
        "\n",
        "val_ds_alexnet = tf.keras.utils.image_dataset_from_directory(\n",
        "  dev_folder,\n",
        "  labels='inferred',\n",
        "  label_mode='int',\n",
        "  validation_split=None,\n",
        "  subset=None,\n",
        "  seed=41, \n",
        "  shuffle=True,\n",
        "  color_mode='rgb',\n",
        "  image_size=(227, 227),\n",
        "  batch_size=batch_size\n",
        "  )\n",
        "\n",
        "test_dataset_alexnet = tf.keras.utils.image_dataset_from_directory(\n",
        "  test_folder,\n",
        "  labels='inferred',\n",
        "  label_mode='int',\n",
        "  validation_split=None,\n",
        "  subset=None,\n",
        "  seed=41, \n",
        "  shuffle=True,\n",
        "  color_mode='rgb',\n",
        "  image_size=(227, 227),\n",
        "  batch_size=batch_size\n",
        "  )\n",
        "\n",
        "print('Batches for training -->', train_ds_alexnet.cardinality())\n",
        "print('Batches for validating -->', val_ds_alexnet.cardinality())\n",
        "print('Batches for testing -->', test_dataset_alexnet.cardinality())"
      ],
      "metadata": {
        "colab": {
          "base_uri": "https://localhost:8080/"
        },
        "id": "Xx-9DfW4YvxN",
        "outputId": "062e92b0-bd1c-41eb-b513-f447faed72b4"
      },
      "execution_count": null,
      "outputs": [
        {
          "output_type": "stream",
          "name": "stdout",
          "text": [
            "Found 166026 files belonging to 8 classes.\n",
            "Found 5083 files belonging to 8 classes.\n",
            "Found 5083 files belonging to 8 classes.\n",
            "Batches for training --> tf.Tensor(1298, shape=(), dtype=int64)\n",
            "Batches for validating --> tf.Tensor(40, shape=(), dtype=int64)\n",
            "Batches for testing --> tf.Tensor(40, shape=(), dtype=int64)\n"
          ]
        }
      ]
    },
    {
      "cell_type": "code",
      "source": [
        "#Defining a function to plot the model results\n",
        "def plot_model_stats(train_loss, val_loss, train_accuracy, val_accuracy, title):\n",
        "    fig, ax = plt.subplots(ncols=2, figsize=(15,7))\n",
        "\n",
        "    ax = ax.ravel()\n",
        "\n",
        "    ax[0].plot(train_loss, label='Train Loss', color='royalblue', marker='o', markersize=5)\n",
        "    ax[0].plot(val_loss, label='Validation Loss', color = 'orangered', marker='o', markersize=5)\n",
        "\n",
        "    ax[0].set_xlabel('Epochs', fontsize=14)\n",
        "    ax[0].set_ylabel('Categorical Crossentropy', fontsize=14)\n",
        "\n",
        "    ax[0].legend(fontsize=14)\n",
        "    ax[0].tick_params(axis='both', labelsize=12)\n",
        "\n",
        "    ax[1].plot(train_accuracy, label='Train Accuracy', color='royalblue', marker='o', markersize=5)\n",
        "    ax[1].plot(val_accuracy, label='Validation Accuracy', color='orangered', marker='o', markersize=5)\n",
        "\n",
        "    ax[1].set_xlabel('Epochs', fontsize=14)\n",
        "    ax[1].set_ylabel('Accuracy', fontsize=14)\n",
        "\n",
        "    ax[1].legend(fontsize=14)\n",
        "    ax[1].tick_params(axis='both', labelsize=12)\n",
        "\n",
        "    fig.suptitle(x=0.5, y=0.94, t=title, fontsize=16)"
      ],
      "metadata": {
        "id": "nC3FiEwmdXFP"
      },
      "execution_count": null,
      "outputs": []
    },
    {
      "cell_type": "markdown",
      "source": [
        "## LeNet-5"
      ],
      "metadata": {
        "id": "cVdlopCmdc-n"
      }
    },
    {
      "cell_type": "markdown",
      "source": [
        "LeNet-5 is a **CNN** structure proposed by **Yann LeCun** in the research paper \"*Gradient-Based Learning Applied to Document Recognition*\" in 1998.  \n",
        "**LeCun** and his team reviewed various methods on handwritten character recognition in paper, and used standard handwritten digits to identify benchmark tasks. These models were compared and the results showed that the network outperformed all other models.  \n",
        "\n",
        "The research achieved great success and aroused the interest of scholars in the study of neural networks. LeNet-5 was the starting point for a large number of neural network architectures, and also brought inspiration to the field.  \n",
        "\n",
        "The input for LeNet-5 is a 32x32 grayscale image and its architecture is made up of 7 layers: 3 convolutional layers, 2 subsampling layers and 2 fully connected layers."
      ],
      "metadata": {
        "id": "xx-Qk5zXhahr"
      }
    },
    {
      "cell_type": "code",
      "source": [
        "lenet_5_model = keras.models.Sequential([\n",
        "    tf.keras.layers.Rescaling(1./255, input_shape=(32, 32, 1)),\n",
        "    tf.keras.layers.Conv2D(6, kernel_size=5, strides=1,  activation='tanh', padding='same'), \n",
        "    tf.keras.layers.AveragePooling2D(), \n",
        "    tf.keras.layers.Conv2D(16, kernel_size=5, strides=1, activation='tanh', padding='valid'), \n",
        "    tf.keras.layers.AveragePooling2D(), \n",
        "    tf.keras.layers.Conv2D(120, kernel_size=5, strides=1, activation='tanh', padding='valid'), \n",
        "    tf.keras.layers.Flatten(), \n",
        "    tf.keras.layers.Dense(84, activation='tanh'), \n",
        "    tf.keras.layers.Dense(8, activation='softmax') \n",
        "])\n",
        "\n",
        "lenet_5_model.summary()"
      ],
      "metadata": {
        "colab": {
          "base_uri": "https://localhost:8080/"
        },
        "id": "owiF-7VrJjCF",
        "outputId": "880d437d-9897-4b52-e172-f2d594178c95"
      },
      "execution_count": null,
      "outputs": [
        {
          "output_type": "stream",
          "name": "stdout",
          "text": [
            "Model: \"sequential\"\n",
            "_________________________________________________________________\n",
            " Layer (type)                Output Shape              Param #   \n",
            "=================================================================\n",
            " rescaling (Rescaling)       (None, 32, 32, 1)         0         \n",
            "                                                                 \n",
            " conv2d (Conv2D)             (None, 32, 32, 6)         156       \n",
            "                                                                 \n",
            " average_pooling2d (AverageP  (None, 16, 16, 6)        0         \n",
            " ooling2D)                                                       \n",
            "                                                                 \n",
            " conv2d_1 (Conv2D)           (None, 12, 12, 16)        2416      \n",
            "                                                                 \n",
            " average_pooling2d_1 (Averag  (None, 6, 6, 16)         0         \n",
            " ePooling2D)                                                     \n",
            "                                                                 \n",
            " conv2d_2 (Conv2D)           (None, 2, 2, 120)         48120     \n",
            "                                                                 \n",
            " flatten (Flatten)           (None, 480)               0         \n",
            "                                                                 \n",
            " dense (Dense)               (None, 84)                40404     \n",
            "                                                                 \n",
            " dense_1 (Dense)             (None, 8)                 680       \n",
            "                                                                 \n",
            "=================================================================\n",
            "Total params: 91,776\n",
            "Trainable params: 91,776\n",
            "Non-trainable params: 0\n",
            "_________________________________________________________________\n"
          ]
        }
      ]
    },
    {
      "cell_type": "code",
      "source": [
        "#Additionaly, if you do not one-hot encode your data, set sparse_categorical_crossentropy as loss and sparse_categorical_accuracy as metric.\n",
        "lenet_5_model.compile(loss='sparse_categorical_crossentropy', optimizer='adam', metrics=['sparse_categorical_accuracy'])\n",
        "\n",
        "# Defining the early stop to monitor the validation loss to avoid overfitting.\n",
        "early_stop = EarlyStopping(monitor='val_loss', min_delta=0, patience=5, verbose=1, mode='auto')\n",
        "\n",
        "epochs=50\n",
        "lenet5_history = lenet_5_model.fit(\n",
        "  train_ds_lenet5,\n",
        "  validation_data=val_ds_lenet5,\n",
        "  callbacks=[early_stop],\n",
        "  epochs=epochs,\n",
        "  shuffle=True\n",
        ")"
      ],
      "metadata": {
        "colab": {
          "base_uri": "https://localhost:8080/"
        },
        "id": "_-zoyaFIKhFk",
        "outputId": "f9940115-0266-43a0-a529-0e5e61da3186"
      },
      "execution_count": null,
      "outputs": [
        {
          "output_type": "stream",
          "name": "stdout",
          "text": [
            "Epoch 1/50\n",
            "1298/1298 [==============================] - 55s 36ms/step - loss: 1.8350 - sparse_categorical_accuracy: 0.3191 - val_loss: 1.7953 - val_sparse_categorical_accuracy: 0.3341\n",
            "Epoch 2/50\n",
            "1298/1298 [==============================] - 47s 36ms/step - loss: 1.8106 - sparse_categorical_accuracy: 0.3264 - val_loss: 1.7599 - val_sparse_categorical_accuracy: 0.3478\n",
            "Epoch 3/50\n",
            "1298/1298 [==============================] - 46s 35ms/step - loss: 1.7682 - sparse_categorical_accuracy: 0.3454 - val_loss: 1.6765 - val_sparse_categorical_accuracy: 0.3857\n",
            "Epoch 4/50\n",
            "1298/1298 [==============================] - 48s 37ms/step - loss: 1.7128 - sparse_categorical_accuracy: 0.3651 - val_loss: 1.6371 - val_sparse_categorical_accuracy: 0.3956\n",
            "Epoch 5/50\n",
            "1298/1298 [==============================] - 55s 42ms/step - loss: 1.6732 - sparse_categorical_accuracy: 0.3780 - val_loss: 1.6251 - val_sparse_categorical_accuracy: 0.3952\n",
            "Epoch 6/50\n",
            "1298/1298 [==============================] - 55s 42ms/step - loss: 1.6413 - sparse_categorical_accuracy: 0.3909 - val_loss: 1.6226 - val_sparse_categorical_accuracy: 0.3991\n",
            "Epoch 7/50\n",
            "1298/1298 [==============================] - 73s 56ms/step - loss: 1.6123 - sparse_categorical_accuracy: 0.4029 - val_loss: 1.6243 - val_sparse_categorical_accuracy: 0.3924\n",
            "Epoch 8/50\n",
            "1298/1298 [==============================] - 88s 67ms/step - loss: 1.5827 - sparse_categorical_accuracy: 0.4143 - val_loss: 1.6188 - val_sparse_categorical_accuracy: 0.3971\n",
            "Epoch 9/50\n",
            "1298/1298 [==============================] - 79s 60ms/step - loss: 1.5508 - sparse_categorical_accuracy: 0.4254 - val_loss: 1.6186 - val_sparse_categorical_accuracy: 0.3956\n",
            "Epoch 10/50\n",
            "1298/1298 [==============================] - 49s 38ms/step - loss: 1.5145 - sparse_categorical_accuracy: 0.4396 - val_loss: 1.6469 - val_sparse_categorical_accuracy: 0.3967\n",
            "Epoch 11/50\n",
            "1298/1298 [==============================] - 46s 35ms/step - loss: 1.4772 - sparse_categorical_accuracy: 0.4560 - val_loss: 1.6540 - val_sparse_categorical_accuracy: 0.3859\n",
            "Epoch 12/50\n",
            "1298/1298 [==============================] - 46s 35ms/step - loss: 1.4386 - sparse_categorical_accuracy: 0.4722 - val_loss: 1.6727 - val_sparse_categorical_accuracy: 0.3821\n",
            "Epoch 13/50\n",
            "1298/1298 [==============================] - 47s 36ms/step - loss: 1.3971 - sparse_categorical_accuracy: 0.4892 - val_loss: 1.6898 - val_sparse_categorical_accuracy: 0.3847\n",
            "Epoch 14/50\n",
            "1298/1298 [==============================] - 47s 36ms/step - loss: 1.3580 - sparse_categorical_accuracy: 0.5064 - val_loss: 1.7169 - val_sparse_categorical_accuracy: 0.3813\n",
            "Epoch 14: early stopping\n"
          ]
        }
      ]
    },
    {
      "cell_type": "code",
      "source": [
        "#Saving the train and validation loss and accuracy values from LeNet-5\n",
        "train_loss_lenet5 = lenet5_history.history['loss']\n",
        "val_loss_lenet5 = lenet5_history.history['val_loss']\n",
        "train_accuracy_lenet5 = lenet5_history.history['sparse_categorical_accuracy']\n",
        "val_accuracy_lenet5 = lenet5_history.history['val_sparse_categorical_accuracy']"
      ],
      "metadata": {
        "id": "nQGfWxTfNq3s"
      },
      "execution_count": null,
      "outputs": []
    },
    {
      "cell_type": "code",
      "source": [
        "#Plotting a line chart to visualize the loss and accuracy values by epochs\n",
        "plot_model_stats(train_loss_lenet5, val_loss_lenet5, train_accuracy_lenet5, val_accuracy_lenet5, 'Results for LeNet-5 Model')"
      ],
      "metadata": {
        "colab": {
          "base_uri": "https://localhost:8080/",
          "height": 480
        },
        "id": "HWKqLJ1nOM8T",
        "outputId": "69e1c640-7432-4524-b4ad-dfb099b5dc87"
      },
      "execution_count": null,
      "outputs": [
        {
          "output_type": "display_data",
          "data": {
            "text/plain": [
              "<Figure size 1080x504 with 2 Axes>"
            ],
            "image/png": "[encoded data removed]"
          },
          "metadata": {
            "needs_background": "light"
          }
        }
      ]
    },
    {
      "cell_type": "code",
      "source": [
        "#Accuracy Evaluation\n",
        "print('\\n--------- LENET-5 ----------\\n')\n",
        "lenet5_acc = round(lenet_5_model.evaluate(test_dataset_lenet5, verbose=0)[1] * 100, 2)\n",
        "print(\"Model Accuracy: {}%\".format(lenet5_acc))"
      ],
      "metadata": {
        "colab": {
          "base_uri": "https://localhost:8080/"
        },
        "id": "LpRj_7OiOo_L",
        "outputId": "d0856341-e8bb-4175-e249-bfffed5e2738"
      },
      "execution_count": null,
      "outputs": [
        {
          "output_type": "stream",
          "name": "stdout",
          "text": [
            "\n",
            "--------- LENET-5 ----------\n",
            "\n",
            "Model Accuracy: 37.4%\n"
          ]
        }
      ]
    },
    {
      "cell_type": "markdown",
      "source": [
        "## AlexNet"
      ],
      "metadata": {
        "id": "35AaWYvLTpYO"
      }
    },
    {
      "cell_type": "markdown",
      "source": [
        "**AlexNet** is the name of a **CNN** architecture designed by *Alex Krizhevsky*, *Ilya Sutskever* and *Geoffrey Hinton* presented in the \"*ImageNet Classification with Deep Convolutional\n",
        "Neural Networks*\" paper in 2012.  \n",
        "\n",
        "The original paper's primary result was that the depth of the model was essential for its high performance, which was computationally expensive, but made feasible due to the utilization of graphics processing units (**GPU**s) during training.  \n",
        "\n",
        "**AlexNet** expects a 227x227 image as input and it contains 8 layers: 5 convolutional layers, some og them followed by max pooling layers, and the last three are fully connected layers. It uses the *ReLU* activation function, which showed improved training performance over *tanh* and *sigmoid* functions.  \n",
        "\n",
        "**AlexNet** is considered one of the most influential papers published in computer vision, having spurred many more papers published employing CNNs and GPUs to accelerate deep learning. As of late 2022, the AlexNet paper has been cited over 100,000 times according to Google Scholar."
      ],
      "metadata": {
        "id": "IuDfXmQfTrKe"
      }
    },
    {
      "cell_type": "code",
      "source": [
        "alexnet_model = keras.models.Sequential([\n",
        "    keras.layers.Rescaling(1./255, input_shape=(227, 227, 3)),\n",
        "    keras.layers.Conv2D(filters=96, kernel_size=(11,11), strides=(4,4), activation='relu', padding=\"same\"),\n",
        "    keras.layers.BatchNormalization(),\n",
        "    keras.layers.MaxPool2D(pool_size=(3,3), strides=(2,2)),\n",
        "    keras.layers.Conv2D(filters=256, kernel_size=(5,5), strides=(1,1), activation='relu', padding=\"same\"),\n",
        "    keras.layers.BatchNormalization(),\n",
        "    keras.layers.MaxPool2D(pool_size=(3,3), strides=(2,2)),\n",
        "    keras.layers.Conv2D(filters=384, kernel_size=(3,3), strides=(1,1), activation='relu', padding=\"same\"),\n",
        "    keras.layers.BatchNormalization(),\n",
        "    keras.layers.Conv2D(filters=384, kernel_size=(3,3), strides=(1,1), activation='relu', padding=\"same\"),\n",
        "    keras.layers.BatchNormalization(),\n",
        "    keras.layers.Conv2D(filters=256, kernel_size=(3,3), strides=(1,1), activation='relu', padding=\"same\"),\n",
        "    keras.layers.BatchNormalization(),\n",
        "    keras.layers.MaxPool2D(pool_size=(3,3), strides=(2,2)),\n",
        "    keras.layers.Flatten(),\n",
        "    keras.layers.Dense(4096, activation='relu'),\n",
        "    keras.layers.Dropout(0.5),\n",
        "    keras.layers.Dense(4096, activation='relu'),\n",
        "    keras.layers.Dropout(0.5),\n",
        "    keras.layers.Dense(8, activation='softmax')\n",
        "])\n",
        "\n",
        "alexnet_model.summary()"
      ],
      "metadata": {
        "colab": {
          "base_uri": "https://localhost:8080/"
        },
        "id": "8JNHRzaMYPVE",
        "outputId": "cc1e9cfd-c90c-4d4a-dc5c-cdd20e734fe5"
      },
      "execution_count": null,
      "outputs": [
        {
          "output_type": "stream",
          "name": "stdout",
          "text": [
            "Model: \"sequential_1\"\n",
            "_________________________________________________________________\n",
            " Layer (type)                Output Shape              Param #   \n",
            "=================================================================\n",
            " rescaling_1 (Rescaling)     (None, 227, 227, 3)       0         \n",
            "                                                                 \n",
            " conv2d_3 (Conv2D)           (None, 57, 57, 96)        34944     \n",
            "                                                                 \n",
            " batch_normalization (BatchN  (None, 57, 57, 96)       384       \n",
            " ormalization)                                                   \n",
            "                                                                 \n",
            " max_pooling2d (MaxPooling2D  (None, 28, 28, 96)       0         \n",
            " )                                                               \n",
            "                                                                 \n",
            " conv2d_4 (Conv2D)           (None, 28, 28, 256)       614656    \n",
            "                                                                 \n",
            " batch_normalization_1 (Batc  (None, 28, 28, 256)      1024      \n",
            " hNormalization)                                                 \n",
            "                                                                 \n",
            " max_pooling2d_1 (MaxPooling  (None, 13, 13, 256)      0         \n",
            " 2D)                                                             \n",
            "                                                                 \n",
            " conv2d_5 (Conv2D)           (None, 13, 13, 384)       885120    \n",
            "                                                                 \n",
            " batch_normalization_2 (Batc  (None, 13, 13, 384)      1536      \n",
            " hNormalization)                                                 \n",
            "                                                                 \n",
            " conv2d_6 (Conv2D)           (None, 13, 13, 384)       1327488   \n",
            "                                                                 \n",
            " batch_normalization_3 (Batc  (None, 13, 13, 384)      1536      \n",
            " hNormalization)                                                 \n",
            "                                                                 \n",
            " conv2d_7 (Conv2D)           (None, 13, 13, 256)       884992    \n",
            "                                                                 \n",
            " batch_normalization_4 (Batc  (None, 13, 13, 256)      1024      \n",
            " hNormalization)                                                 \n",
            "                                                                 \n",
            " max_pooling2d_2 (MaxPooling  (None, 6, 6, 256)        0         \n",
            " 2D)                                                             \n",
            "                                                                 \n",
            " flatten_1 (Flatten)         (None, 9216)              0         \n",
            "                                                                 \n",
            " dense_2 (Dense)             (None, 4096)              37752832  \n",
            "                                                                 \n",
            " dropout (Dropout)           (None, 4096)              0         \n",
            "                                                                 \n",
            " dense_3 (Dense)             (None, 4096)              16781312  \n",
            "                                                                 \n",
            " dropout_1 (Dropout)         (None, 4096)              0         \n",
            "                                                                 \n",
            " dense_4 (Dense)             (None, 8)                 32776     \n",
            "                                                                 \n",
            "=================================================================\n",
            "Total params: 58,319,624\n",
            "Trainable params: 58,316,872\n",
            "Non-trainable params: 2,752\n",
            "_________________________________________________________________\n"
          ]
        }
      ]
    },
    {
      "cell_type": "code",
      "source": [
        "#Additionaly, if you do not one-hot encode your data, set sparse_categorical_crossentropy as loss and sparse_categorical_accuracy as metric.\n",
        "alexnet_model.compile(loss='sparse_categorical_crossentropy', optimizer='adam', metrics=['sparse_categorical_accuracy'])\n",
        "\n",
        "# Defining the early stop to monitor the validation loss to avoid overfitting.\n",
        "early_stop = EarlyStopping(monitor='val_loss', min_delta=0, patience=5, verbose=1, mode='auto')\n",
        "\n",
        "epochs=50\n",
        "alexnet_history = alexnet_model.fit(\n",
        "  train_ds_alexnet,\n",
        "  validation_data=val_ds_alexnet,\n",
        "  callbacks=[early_stop],\n",
        "  epochs=epochs,\n",
        "  shuffle=True\n",
        ")"
      ],
      "metadata": {
        "colab": {
          "base_uri": "https://localhost:8080/"
        },
        "id": "k1lQTRffZKg1",
        "outputId": "e386d242-a877-48af-fe49-5b769a74f49e"
      },
      "execution_count": null,
      "outputs": [
        {
          "output_type": "stream",
          "name": "stdout",
          "text": [
            "Epoch 1/50\n",
            "1298/1298 [==============================] - 265s 201ms/step - loss: 2.1831 - sparse_categorical_accuracy: 0.3125 - val_loss: 1.8574 - val_sparse_categorical_accuracy: 0.3143\n",
            "Epoch 2/50\n",
            "1298/1298 [==============================] - 258s 198ms/step - loss: 1.6772 - sparse_categorical_accuracy: 0.3811 - val_loss: 1.6035 - val_sparse_categorical_accuracy: 0.3926\n",
            "Epoch 3/50\n",
            "1298/1298 [==============================] - 258s 198ms/step - loss: 1.5227 - sparse_categorical_accuracy: 0.4296 - val_loss: 1.5316 - val_sparse_categorical_accuracy: 0.4261\n",
            "Epoch 4/50\n",
            "1298/1298 [==============================] - 258s 198ms/step - loss: 1.4051 - sparse_categorical_accuracy: 0.4656 - val_loss: 1.2832 - val_sparse_categorical_accuracy: 0.4939\n",
            "Epoch 5/50\n",
            "1298/1298 [==============================] - 257s 198ms/step - loss: 1.3031 - sparse_categorical_accuracy: 0.4980 - val_loss: 1.3261 - val_sparse_categorical_accuracy: 0.4808\n",
            "Epoch 6/50\n",
            "1298/1298 [==============================] - 258s 198ms/step - loss: 1.1949 - sparse_categorical_accuracy: 0.5333 - val_loss: 1.2363 - val_sparse_categorical_accuracy: 0.5194\n",
            "Epoch 7/50\n",
            "1298/1298 [==============================] - 256s 197ms/step - loss: 1.0859 - sparse_categorical_accuracy: 0.5704 - val_loss: 1.2133 - val_sparse_categorical_accuracy: 0.5438\n",
            "Epoch 8/50\n",
            "1298/1298 [==============================] - 256s 197ms/step - loss: 0.9751 - sparse_categorical_accuracy: 0.6127 - val_loss: 2.2855 - val_sparse_categorical_accuracy: 0.3967\n",
            "Epoch 9/50\n",
            "1298/1298 [==============================] - 255s 196ms/step - loss: 0.8631 - sparse_categorical_accuracy: 0.6587 - val_loss: 1.3359 - val_sparse_categorical_accuracy: 0.5279\n",
            "Epoch 10/50\n",
            "1298/1298 [==============================] - 256s 197ms/step - loss: 0.7309 - sparse_categorical_accuracy: 0.7150 - val_loss: 2.2015 - val_sparse_categorical_accuracy: 0.4703\n",
            "Epoch 11/50\n",
            "1298/1298 [==============================] - 255s 196ms/step - loss: 0.6288 - sparse_categorical_accuracy: 0.7569 - val_loss: 1.7243 - val_sparse_categorical_accuracy: 0.5339\n",
            "Epoch 12/50\n",
            "1298/1298 [==============================] - 256s 197ms/step - loss: 0.5429 - sparse_categorical_accuracy: 0.7936 - val_loss: 2.2230 - val_sparse_categorical_accuracy: 0.4738\n",
            "Epoch 12: early stopping\n"
          ]
        }
      ]
    },
    {
      "cell_type": "code",
      "source": [
        "#Saving the train and validation loss and accuracy values from AlexNet\n",
        "train_loss_alexnet = alexnet_history.history['loss']\n",
        "val_loss_alexnet = alexnet_history.history['val_loss']\n",
        "train_accuracy_alexnet = alexnet_history.history['sparse_categorical_accuracy']\n",
        "val_accuracy_alexnet = alexnet_history.history['val_sparse_categorical_accuracy']"
      ],
      "metadata": {
        "id": "Ah-ah8k_ZYCs"
      },
      "execution_count": null,
      "outputs": []
    },
    {
      "cell_type": "code",
      "source": [
        "#Plotting a line chart to visualize the loss and accuracy values by epochs\n",
        "plot_model_stats(train_loss_alexnet, val_loss_alexnet, train_accuracy_alexnet, val_accuracy_alexnet, 'Results for AlexNet Model')"
      ],
      "metadata": {
        "colab": {
          "base_uri": "https://localhost:8080/",
          "height": 480
        },
        "id": "hY5dYGuFZbPF",
        "outputId": "9eac3940-a059-4b8c-d5fe-80be5c5316d1"
      },
      "execution_count": null,
      "outputs": [
        {
          "output_type": "display_data",
          "data": {
            "text/plain": [
              "<Figure size 1080x504 with 2 Axes>"
            ],
            "image/png": "[encoded data removed]"
          },
          "metadata": {
            "needs_background": "light"
          }
        }
      ]
    },
    {
      "cell_type": "code",
      "source": [
        "#Accuracy Evaluation\n",
        "print('\\n--------- AlexNet ----------\\n')\n",
        "alexnet_acc = round(alexnet_model.evaluate(test_dataset_alexnet, verbose=0)[1] * 100, 2)\n",
        "print(\"Model Accuracy: {}%\".format(alexnet_acc))"
      ],
      "metadata": {
        "colab": {
          "base_uri": "https://localhost:8080/"
        },
        "id": "x444TCfxZbxk",
        "outputId": "1ff3da22-e57f-40fe-9a2a-70246ca7c85b"
      },
      "execution_count": null,
      "outputs": [
        {
          "output_type": "stream",
          "name": "stdout",
          "text": [
            "\n",
            "--------- AlexNet ----------\n",
            "\n",
            "Model Accuracy: 46.13%\n"
          ]
        }
      ]
    },
    {
      "cell_type": "code",
      "source": [
        "#Defining function to get percentage string from a number \n",
        "def perc(num):\n",
        "  return str(round(float(num)*100, 2))+'%'\n",
        "\n",
        "#Building the table of the result\n",
        "table = [['\\033[1m#\\033[0m', '\\033[1mModel Description\\033[0m', '\\033[1mTrain Loss\\033[0m', '\\033[1mVal Loss\\033[0m', '\\033[1mTrain Acc\\033[0m', '\\033[1mVal Acc\\033[0m', '\\033[1mTest Acc\\033[0m'], \n",
        "         ['1', 'LeNet-5', str(round(train_loss_lenet5[-1], 3)), round(val_loss_lenet5[-1], 3), perc(train_accuracy_lenet5[-1]), perc(val_accuracy_lenet5[-1]), perc(lenet5_acc/100)],\n",
        "         ['2','AlexNet', round(train_loss_alexnet[-1], 3), round(val_loss_alexnet[-1], 3), perc(train_accuracy_alexnet[-1]), perc(val_accuracy_alexnet[-1]), perc(alexnet_acc/100)]\n",
        "        ]\n",
        "\n",
        "#Printing the table\n",
        "print(tabulate(table, headers='firstrow', tablefmt='fancy_grid'))  "
      ],
      "metadata": {
        "colab": {
          "base_uri": "https://localhost:8080/"
        },
        "id": "9-8kNXrMeTha",
        "outputId": "5d087072-b82c-487c-9cc2-011955376f7d"
      },
      "execution_count": null,
      "outputs": [
        {
          "output_type": "stream",
          "name": "stdout",
          "text": [
            "╒═════╤═════════════════════╤══════════════╤════════════╤═════════════╤═══════════╤════════════╕\n",
            "│   \u001b[1m#\u001b[0m │ \u001b[1mModel Description\u001b[0m   │   \u001b[1mTrain Loss\u001b[0m │   \u001b[1mVal Loss\u001b[0m │ \u001b[1mTrain Acc\u001b[0m   │ \u001b[1mVal Acc\u001b[0m   │ \u001b[1mTest Acc\u001b[0m   │\n",
            "╞═════╪═════════════════════╪══════════════╪════════════╪═════════════╪═══════════╪════════════╡\n",
            "│   1 │ LeNet-5             │        1.358 │      1.717 │ 50.64%      │ 38.13%    │ 37.4%      │\n",
            "├─────┼─────────────────────┼──────────────┼────────────┼─────────────┼───────────┼────────────┤\n",
            "│   2 │ AlexNet             │        0.543 │      2.223 │ 79.36%      │ 47.38%    │ 46.13%     │\n",
            "╘═════╧═════════════════════╧══════════════╧════════════╧═════════════╧═══════════╧════════════╛\n"
          ]
        }
      ]
    },
    {
      "cell_type": "markdown",
      "source": [
        "There are some different **CNN**s we would like to use (*VGG-16*, *ResNet*, *GoogleNet*, *EfficientNet*) but they are complex networks and their training require a lot of time and computational resources. To overcome this kind of issues, in the next notebook we'll introduce the concept of ***transfer learning*** thanks to which we should get even better results."
      ],
      "metadata": {
        "id": "OXib3EjBgiXq"
      }
    }
  ]
}