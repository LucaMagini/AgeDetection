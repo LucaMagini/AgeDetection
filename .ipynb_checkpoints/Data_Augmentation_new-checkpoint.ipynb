{
 "cells": [
  {
   "cell_type": "code",
   "execution_count": 1,
   "metadata": {
    "executionInfo": {
     "elapsed": 4929,
     "status": "ok",
     "timestamp": 1662633106899,
     "user": {
      "displayName": "Luca Mag",
      "userId": "06619506036873405402"
     },
     "user_tz": -120
    },
    "id": "LyKXAhXSIyAm"
   },
   "outputs": [],
   "source": [
    "import imgaug.augmenters as iaa\n",
    "import cv2, os\n",
    "import glob\n",
    "import shutil\n",
    "import tensorflow as tf\n",
    "import keras\n",
    "import numpy as np\n",
    "import pandas as pd\n",
    "import matplotlib.pyplot as plt\n",
    "from zipfile import ZipFile\n",
    "from tensorflow.keras.callbacks import EarlyStopping\n",
    "from tensorflow.keras import regularizers"
   ]
  },
  {
   "cell_type": "code",
   "execution_count": 2,
   "metadata": {
    "colab": {
     "base_uri": "https://localhost:8080/"
    },
    "executionInfo": {
     "elapsed": 41888,
     "status": "ok",
     "timestamp": 1662633148779,
     "user": {
      "displayName": "Luca Mag",
      "userId": "06619506036873405402"
     },
     "user_tz": -120
    },
    "id": "YTHs3wtGIxwG",
    "outputId": "6d6041bc-530e-4be0-b0dc-ff29f496f119"
   },
   "outputs": [],
   "source": [
    "#JUPYTER VERSION\n",
    "comb_path = \"../Data/Combined_Images\"\n",
    "\n",
    "# #GOOGLE COLAB VERSION\n",
    "# from google.colab import drive\n",
    "# drive.mount('/content/drive')\n",
    "\n",
    "# # Unzipping the dataset file facial-age.zip\n",
    "\n",
    "# combined_images_path = \"/content/drive/MyDrive/Data/Combined_Images.zip\"\n",
    "\n",
    "# with ZipFile(combined_images_path, 'r') as myzip:\n",
    "#     myzip.extractall(\"../content/Combined_Images\")\n",
    "#     print('Done unzipping Combined_Images.zip')"
   ]
  },
  {
   "cell_type": "code",
   "execution_count": 3,
   "metadata": {
    "executionInfo": {
     "elapsed": 14,
     "status": "ok",
     "timestamp": 1662633148780,
     "user": {
      "displayName": "Luca Mag",
      "userId": "06619506036873405402"
     },
     "user_tz": -120
    },
    "id": "VPjtET_eGy4G"
   },
   "outputs": [],
   "source": [
    "#1. Load Dataset\n",
    "def load_dataset(folder_name):\n",
    "    images = []\n",
    "    images_path = glob.glob('../content/Combined_Images/{}/*.jpg'.format(str(folder_name)))\n",
    "    for img_path in images_path:\n",
    "        img = cv2.imread(img_path)\n",
    "        images.append(img)   \n",
    "    return images  "
   ]
  },
  {
   "cell_type": "code",
   "execution_count": 4,
   "metadata": {
    "executionInfo": {
     "elapsed": 11,
     "status": "ok",
     "timestamp": 1662633148780,
     "user": {
      "displayName": "Luca Mag",
      "userId": "06619506036873405402"
     },
     "user_tz": -120
    },
    "id": "ujX4TLqXHDsz"
   },
   "outputs": [],
   "source": [
    "def flipping(images):\n",
    "    #1. --------- Flipping Augmentation ---------\n",
    "    flipping_augmentation = iaa.Fliplr(1)\n",
    "    flipped_images = flipping_augmentation(images=images)\n",
    "    return flipped_images\n",
    "\n",
    "def rotate_left(images):\n",
    "    #2. --------- Rotating Left Augmentation ---------\n",
    "    rotate_left_augmentation = iaa.Affine(translate_percent={\"x\": (-0.2, 0.2), \"y\": (-0.2, 0.2)},\n",
    "                                          rotate=(-30, -5),\n",
    "                                          scale=(0.5, 1.5))\n",
    "    rotate_left_images = rotate_left_augmentation(images=images)\n",
    "    return rotate_left_images\n",
    "\n",
    "def rotate_right(images):\n",
    "    #3. --------- Rotating Right Augmentation ---------\n",
    "    rotate_right_augmentation = iaa.Affine(translate_percent={\"x\": (-0.2, 0.2), \"y\": (-0.2, 0.2)},\n",
    "                                           rotate=(5, 30),\n",
    "                                           scale=(0.5, 1.5))\n",
    "    rotate_right_images = rotate_right_augmentation(images=images)\n",
    "    return rotate_right_images\n",
    "\n",
    "def multiply_images(images):\n",
    "    #4. --------- Multiply --------- to let the image lightner or darker\n",
    "    multiply_augmentation = iaa.Multiply((1.5, 2.6)) #This is a lightner range\n",
    "    multiply_images = multiply_augmentation(images=images)\n",
    "    return multiply_images\n",
    "\n",
    "def contrast(images):\n",
    "    #5. --------- Contrast ---------\n",
    "    contrast_augmentation = iaa.LinearContrast((1.6, 2.4))\n",
    "    contrast_images = contrast_augmentation(images=images)\n",
    "    return contrast_images\n",
    "\n",
    "def blur(images):\n",
    "    #6. --------- Blur ---------\n",
    "    blur_augmentation = iaa.GaussianBlur((2.5, 4.5))\n",
    "    blur_images = blur_augmentation(images=images)\n",
    "    return blur_images"
   ]
  },
  {
   "cell_type": "code",
   "execution_count": 5,
   "metadata": {
    "executionInfo": {
     "elapsed": 11,
     "status": "ok",
     "timestamp": 1662633148781,
     "user": {
      "displayName": "Luca Mag",
      "userId": "06619506036873405402"
     },
     "user_tz": -120
    },
    "id": "F347bv4qJM56"
   },
   "outputs": [],
   "source": [
    "#Use this to remove folder\n",
    "import shutil\n",
    "dirpath = \"/content/Combined_Faces_Augmented\"\n",
    "if os.path.exists(dirpath):\n",
    "    shutil.rmtree(dirpath)"
   ]
  },
  {
   "cell_type": "code",
   "execution_count": 6,
   "metadata": {
    "executionInfo": {
     "elapsed": 10,
     "status": "ok",
     "timestamp": 1662633148781,
     "user": {
      "displayName": "Luca Mag",
      "userId": "06619506036873405402"
     },
     "user_tz": -120
    },
    "id": "htCTinBnHGyR"
   },
   "outputs": [],
   "source": [
    "# Making a new folder to save all augmented images as a new dataset.\n",
    "import os\n",
    "os.mkdir(\"Combined_Faces_Augmented\")\n",
    "new_path = \"/content/Combined_Faces_Augmented\""
   ]
  },
  {
   "cell_type": "code",
   "execution_count": 7,
   "metadata": {
    "executionInfo": {
     "elapsed": 10,
     "status": "ok",
     "timestamp": 1662633148781,
     "user": {
      "displayName": "Luca Mag",
      "userId": "06619506036873405402"
     },
     "user_tz": -120
    },
    "id": "4KDp_BFLHK9h"
   },
   "outputs": [],
   "source": [
    "#REPEAT THIS PART TO CREATE ALL THE 8 FOLDERS\n",
    "for num in range(1): #range(1)=range(8)\n",
    "    os.mkdir('Combined_Faces_Augmented/' + str(num))\n",
    "    path = '/content/Combined_Faces_Augmented/' + str(num)\n",
    "    images = load_dataset(str(num))\n",
    "    tot_imgs = images\n",
    "    print('---- START IMAGES PROCESSING CLASS {} ----'.format(num))\n",
    "    for n in range(len(images)):\n",
    "        if n % 500 == 0:\n",
    "            print('{} images processed of {}'.format(n, len(images)))\n",
    "        flp = flipping([images[n]])\n",
    "        rot_left = rotate_left([images[n]])\n",
    "        rot_right = rotate_right([images[n]])\n",
    "        mult = multiply_images([images[n]])\n",
    "        contr = contrast([images[n]])\n",
    "        blr = blur([images[n]])\n",
    "        aug_img = [flp, rot_left, rot_right, mult, contr, blr]\n",
    "        tot_imgs = tot_imgs + aug_img\n",
    "    print(len(tot_imgs))    \n",
    "    print('Image processing for class {} completed\\n'.format(num))    \n",
    "    print('---- START AUGMENTED IMAGES PROCESS CLASS {} ----'.format(num))                 \n",
    "    for index, img in enumerate(tot_imgs):\n",
    "        if isinstance(img, list):\n",
    "            img = img.pop()\n",
    "        cv2.imwrite(path + '/{}.jpg'.format(index), img)\n",
    "        if index % 500 == 0:\n",
    "          print('{} images created of {}'.format(index, len(tot_imgs)))\n",
    "    print('Augmented images creation process for class {} completed\\n'.format(num))        "
   ]
  },
  {
   "cell_type": "code",
   "execution_count": 10,
   "metadata": {
    "executionInfo": {
     "elapsed": 17,
     "status": "ok",
     "timestamp": 1662633179505,
     "user": {
      "displayName": "Luca Mag",
      "userId": "06619506036873405402"
     },
     "user_tz": -120
    },
    "id": "3F9HQ-UxStrg"
   },
   "outputs": [],
   "source": [
    "# #Creo la cartella Combined_Images_Augmented.zip e la inserisco sul Google Drive\n",
    "# aug_path = \"../content/Combined_Faces_Augmented\"\n",
    "# output_filename = '../content/drive/MyDrive/Data/Combined_Images_Augmented'\n",
    "# shutil.make_archive(output_filename, 'zip', aug_path)"
   ]
  }
 ],
 "metadata": {
  "accelerator": "GPU",
  "colab": {
   "authorship_tag": "ABX9TyPmwON+QeDsmgIXwMxXp1fb",
   "collapsed_sections": [],
   "machine_shape": "hm",
   "provenance": []
  },
  "gpuClass": "standard",
  "kernelspec": {
   "display_name": "Python 3 (ipykernel)",
   "language": "python",
   "name": "python3"
  },
  "language_info": {
   "codemirror_mode": {
    "name": "ipython",
    "version": 3
   },
   "file_extension": ".py",
   "mimetype": "text/x-python",
   "name": "python",
   "nbconvert_exporter": "python",
   "pygments_lexer": "ipython3",
   "version": "3.7.11"
  }
 },
 "nbformat": 4,
 "nbformat_minor": 1
}
