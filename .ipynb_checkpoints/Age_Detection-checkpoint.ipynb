{
 "cells": [
  {
   "cell_type": "markdown",
   "id": "f5ae81c5",
   "metadata": {},
   "source": [
    "# AGE DETECTION"
   ]
  },
  {
   "cell_type": "markdown",
   "id": "0c61216a",
   "metadata": {},
   "source": [
    "* Scopo del progetto\n",
    "* Cosa è una CNN e motivo della scelta\n",
    "* Descrizione dei dataset scelti per il training"
   ]
  },
  {
   "cell_type": "code",
   "execution_count": 109,
   "id": "042f7832",
   "metadata": {},
   "outputs": [],
   "source": [
    "#Importing the libraries\n",
    "import os, re\n",
    "import pandas as pd\n",
    "import numpy as np\n",
    "import matplotlib.pyplot as plt\n",
    "import cv2"
   ]
  },
  {
   "cell_type": "code",
   "execution_count": 110,
   "id": "0613d0d1",
   "metadata": {},
   "outputs": [],
   "source": [
    "#Creating an array of all the folders name of the dataset\n",
    "kaggle_faces_path = \"../Data/KaggleFacialAge\"\n",
    "kaggle_faces_folders = os.listdir(kaggle_faces_path)\n",
    "kaggle_faces_folders = np.array(kaggle_faces_folders)"
   ]
  },
  {
   "cell_type": "code",
   "execution_count": 111,
   "id": "426d4235",
   "metadata": {},
   "outputs": [],
   "source": [
    "#Creating Dictionary Containing Number of Images per Age for Kaggle Dataset\n",
    "kaggle_images = {}\n",
    "\n",
    "for folder in kaggle_faces_folders:\n",
    "    temp_path = os.path.join(kaggle_faces_path, folder)\n",
    "    n_images = len(os.listdir(temp_path))\n",
    "    kaggle_images[int(folder)] = n_images  "
   ]
  },
  {
   "cell_type": "code",
   "execution_count": 112,
   "id": "6b43e07f",
   "metadata": {},
   "outputs": [],
   "source": [
    "#Creating Dictionary Containing Number of Images per Age for UTK Dataset\n",
    "utk_images = {}\n",
    "utk_faces_path = \"../Data/UTKFaces\"\n",
    "utkface_image_names = os.listdir(utk_faces_path)\n",
    "\n",
    "def finding_age(image_name):\n",
    "    image_labels = image_name.split('_')\n",
    "    age = int(image_labels[0])\n",
    "    return age\n",
    "\n",
    "for image in utkface_image_names:\n",
    "    age = finding_age(image)\n",
    "    if age not in utk_images:\n",
    "        utk_images[age] = 1\n",
    "    else:\n",
    "        utk_images[age] += 1\n",
    "\n",
    "#Sorting the dict\n",
    "utk_images = dict(sorted(utk_images.items(), key=lambda x: x[0]))       "
   ]
  },
  {
   "cell_type": "code",
   "execution_count": 113,
   "id": "48952f09",
   "metadata": {},
   "outputs": [],
   "source": [
    "#Merging the Dictionaries \n",
    "def mergeDict(dict_1, dict_2):\n",
    "    merged_dict = {**dict_1, **dict_2}\n",
    "    for key, value in merged_dict.items():\n",
    "        if key in dict_1 and key in dict_2:\n",
    "            merged_dict[key] = dict_1[key] + dict_2[key]\n",
    "    return merged_dict        \n",
    "\n",
    "combined_images = mergeDict(kaggle_images , utk_images)\n",
    "\n",
    "#CREARE UNA FUNZIONE CHE MOSTRI LE PRIME 10 RIGHE DI UN DIZIONARIO, PER MOSTRARLI TUTTI E 3"
   ]
  },
  {
   "cell_type": "code",
   "execution_count": 114,
   "id": "dc6cc33a",
   "metadata": {},
   "outputs": [
    {
     "data": {
      "text/plain": [
       "33884"
      ]
     },
     "execution_count": 114,
     "metadata": {},
     "output_type": "execute_result"
    }
   ],
   "source": [
    "#Showing the totoal number of the images\n",
    "total_img = 0\n",
    "\n",
    "for k, v in combined_images.items():\n",
    "    total_img += v\n",
    "    \n",
    "total_img"
   ]
  },
  {
   "cell_type": "code",
   "execution_count": 115,
   "id": "42629aca",
   "metadata": {},
   "outputs": [
    {
     "name": "stdout",
     "output_type": "stream",
     "text": [
      "[[1, 2, 3, 4, 5], [6, 7, 8, 9, 10, 11, 12, 13, 14, 15, 16, 17, 18, 19, 20, 21], [22, 23, 24, 25], [26, 27, 28, 29], [30, 31, 32, 33, 34, 35, 36, 37], [38, 39, 40, 41, 42, 43, 44, 45, 46, 47, 48, 49, 50, 51, 52], [53, 54, 55, 56, 57, 58, 59, 60, 61, 62, 63, 64, 65, 66, 67, 68, 69, 70, 71, 72, 73, 74, 75], [76, 77, 78, 79, 80, 81, 82, 83, 84, 85, 86, 87, 88, 89, 90, 91, 92, 93, 95, 96, 99, 100, 101, 110, 103, 105, 111, 115, 116]]\n"
     ]
    }
   ],
   "source": [
    "#Create a function to divide the images into n groups with similar number of images\n",
    "\n",
    "def groups(diz, n_groups):\n",
    "    total_img = 0\n",
    "    for k, v in diz.items():\n",
    "        total_img += v\n",
    "    threshold = int(total_img / (n_groups)) \n",
    "    \n",
    "    groups = []\n",
    "    tempor = []\n",
    "    val = 0\n",
    "    \n",
    "    for key, value in diz.items():\n",
    "        val += diz[key]\n",
    "        if val < threshold*1.2:\n",
    "            tempor.append(key)\n",
    "        else:\n",
    "            groups.append(tempor)\n",
    "            val = value\n",
    "            tempor = [key]\n",
    "           \n",
    "    groups.append(tempor)\n",
    "    return groups        \n",
    "\n",
    "grs = groups(combined_images, 8)\n",
    "print(grs)"
   ]
  },
  {
   "cell_type": "markdown",
   "id": "769962a2",
   "metadata": {},
   "source": [
    "1. Fare un dataframe con label, age range, number of images, % of total\n",
    "1. Fare dataframe con nome file, età, label"
   ]
  },
  {
   "cell_type": "code",
   "execution_count": 116,
   "id": "369c0c00",
   "metadata": {},
   "outputs": [
    {
     "data": {
      "text/plain": [
       "[[0, '1-5', 4924, '14.532%'],\n",
       " [1, '6-21', 5002, '14.762%'],\n",
       " [2, '22-25', 2996, '8.842%'],\n",
       " [3, '26-29', 5014, '14.798%'],\n",
       " [4, '30-37', 4759, '14.045%'],\n",
       " [5, '38-52', 4794, '14.148%'],\n",
       " [6, '53-75', 4997, '14.747%'],\n",
       " [7, '76-116', 1398, '4.126%']]"
      ]
     },
     "execution_count": 116,
     "metadata": {},
     "output_type": "execute_result"
    }
   ],
   "source": [
    "#Creazione lista contenente le info nel punto 1\n",
    "#Parlare riguardo class imbalance\n",
    "res = []\n",
    "\n",
    "for index, value in enumerate(grs):\n",
    "    temp = 0\n",
    "    for num in value:\n",
    "        temp += combined_images[num]\n",
    "    res.append([index, str(value[0])+'-'+str(value[-1]), temp, str(round(temp/total_img*100,3)) + '%'])\n",
    "\n",
    "res"
   ]
  },
  {
   "cell_type": "code",
   "execution_count": 117,
   "id": "4101684c",
   "metadata": {},
   "outputs": [
    {
     "name": "stdout",
     "output_type": "stream",
     "text": [
      "   Label Age-Range  #Images   %Total\n",
      "0      0       1-5     4924  14.532%\n",
      "1      1      6-21     5002  14.762%\n",
      "2      2     22-25     2996   8.842%\n",
      "3      3     26-29     5014  14.798%\n",
      "4      4     30-37     4759  14.045%\n",
      "5      5     38-52     4794  14.148%\n",
      "6      6     53-75     4997  14.747%\n",
      "7      7    76-116     1398   4.126%\n"
     ]
    }
   ],
   "source": [
    "#Trasformare la lista in un dataframe e poi csv\n",
    "df = pd.DataFrame(res, columns =['Label', 'Age-Range', '#Images', '%Total']) \n",
    "os.makedirs('Stats', exist_ok=True) \n",
    "df.to_csv('Stats/data_stats.csv')\n",
    "print(df)"
   ]
  },
  {
   "cell_type": "code",
   "execution_count": 118,
   "id": "79ab800c",
   "metadata": {},
   "outputs": [
    {
     "data": {
      "image/png": "[encoded data removed]",
      "text/plain": [
       "<Figure size 432x288 with 1 Axes>"
      ]
     },
     "metadata": {
      "needs_background": "light"
     },
     "output_type": "display_data"
    }
   ],
   "source": [
    "#Fare grafico a barre con le percentuali del totale\n",
    "\n",
    "# Choose the height of the bars\n",
    "height = []\n",
    "bars = []\n",
    "for elem in res:\n",
    "    height.append(elem[2])\n",
    "    bars.append(elem[1])\n",
    "\n",
    "# Choose the names of the bars\n",
    "x_pos = np.arange(len(tuple(bars)))\n",
    "\n",
    "# Create bars\n",
    "plt.bar(x_pos, height)\n",
    "\n",
    "# Create names on the x-axis\n",
    "plt.xticks(x_pos, tuple(bars), color='black')\n",
    "plt.yticks(color='black')\n",
    "\n",
    "# Show graphic\n",
    "plt.show()"
   ]
  },
  {
   "cell_type": "code",
   "execution_count": 119,
   "id": "a2f3399b",
   "metadata": {},
   "outputs": [
    {
     "name": "stdout",
     "output_type": "stream",
     "text": [
      "--- Copying UTK dataset images into combined images folder ---\n",
      "Images copied to combined images folder = 3000 of 33884\n",
      "Images copied to combined images folder = 6000 of 33884\n",
      "Images copied to combined images folder = 9000 of 33884\n",
      "Images copied to combined images folder = 12000 of 33884\n",
      "Images copied to combined images folder = 15000 of 33884\n",
      "Images copied to combined images folder = 18000 of 33884\n",
      "Images copied to combined images folder = 21000 of 33884\n",
      "Images copied to combined images folder = 24000 of 33884\n",
      "24106\n"
     ]
    }
   ],
   "source": [
    "#Mettere immagini in un'unica cartella sistemando il nome di ogni immagine\n",
    "import glob\n",
    "import shutil\n",
    "\n",
    "#Creazione della cartella \n",
    "path = \"../Data/Combined_Images\"\n",
    "if not os.path.exists(path):\n",
    "    os.makedirs(path)\n",
    "\n",
    "#Copiare le immagini del dataset UTK\n",
    "src_dir = utk_faces_path\n",
    "dst_dir = path\n",
    "counter = 0\n",
    "print('--- Copying UTK dataset images into combined images folder ---')\n",
    "for jpgfile in glob.iglob(os.path.join(src_dir, \"*.jpg\")):\n",
    "    shutil.copy(jpgfile, dst_dir)\n",
    "    counter += 1\n",
    "    if counter % 3000 == 0:\n",
    "        print('Images copied to combined images folder = {} of 33884'.format(counter))       "
   ]
  },
  {
   "cell_type": "code",
   "execution_count": 120,
   "id": "0d022f73",
   "metadata": {},
   "outputs": [
    {
     "name": "stdout",
     "output_type": "stream",
     "text": [
      "--- Copying Kaggle dataset images into combined images folder ---\n",
      "Images copied to combined images folder = 27000 of 33884\n",
      "Images copied to combined images folder = 30000 of 33884\n",
      "Images copied to combined images folder = 33000 of 33884\n",
      "Images copied to combined images folder = 33884 of 33884\n"
     ]
    }
   ],
   "source": [
    "#Sistemare e copiare le immagini del dateset Kaggle\n",
    "\n",
    "src_dir = kaggle_faces_path\n",
    "dst_dir = path\n",
    "print('--- Copying Kaggle dataset images into combined images folder ---')\n",
    "for folder in os.listdir(kaggle_faces_path):\n",
    "    for pngfile in glob.iglob(os.path.join(src_dir + '/' + folder, \"*.png\")):\n",
    "        pngfile_id = pngfile.split(\"\\\\\")[-1]\n",
    "        destpath = dst_dir + '/' + str(int(folder)) + '_' + pngfile_id[:-4] + '.jpg'\n",
    "\n",
    "        # Loading .png image\n",
    "        png_img = cv2.imread(pngfile)\n",
    "        \n",
    "        # converting to jpg file\n",
    "        #saving the jpg file\n",
    "        cv2.imwrite(destpath, png_img, [int(cv2.IMWRITE_JPEG_QUALITY), 100])\n",
    "        \n",
    "        counter += 1\n",
    "        if counter % 3000 == 0:\n",
    "            print('Images copied to combined images folder = {} of 33884'.format(counter))\n",
    "        \n",
    "print('Images copied to combined images folder = {} of 33884'.format(counter))        "
   ]
  }
 ],
 "metadata": {
  "kernelspec": {
   "display_name": "Python 3 (ipykernel)",
   "language": "python",
   "name": "python3"
  },
  "language_info": {
   "codemirror_mode": {
    "name": "ipython",
    "version": 3
   },
   "file_extension": ".py",
   "mimetype": "text/x-python",
   "name": "python",
   "nbconvert_exporter": "python",
   "pygments_lexer": "ipython3",
   "version": "3.7.11"
  }
 },
 "nbformat": 4,
 "nbformat_minor": 5
}
