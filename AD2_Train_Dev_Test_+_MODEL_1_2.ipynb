{
  "cells": [
    {
      "cell_type": "markdown",
      "metadata": {
        "id": "5c9936f4"
      },
      "source": [
        "# Train - Dev - Test + MODEL 1-2\n"
      ],
      "id": "5c9936f4"
    },
    {
      "cell_type": "code",
      "execution_count": 55,
      "metadata": {
        "id": "afd5982f"
      },
      "outputs": [],
      "source": [
        "import tensorflow as tf\n",
        "import keras\n",
        "import numpy as np\n",
        "import pandas as pd\n",
        "import matplotlib.pyplot as plt\n",
        "from zipfile import ZipFile\n",
        "from tensorflow.keras.callbacks import EarlyStopping\n",
        "from tensorflow.keras import regularizers"
      ],
      "id": "afd5982f"
    },
    {
      "cell_type": "code",
      "execution_count": 43,
      "metadata": {
        "colab": {
          "base_uri": "https://localhost:8080/"
        },
        "id": "D0wKl_EhZVeg",
        "outputId": "1495f508-2767-48f5-d05b-319389f702ce"
      },
      "outputs": [
        {
          "output_type": "stream",
          "name": "stdout",
          "text": [
            "Fri Sep  2 13:29:53 2022       \n",
            "+-----------------------------------------------------------------------------+\n",
            "| NVIDIA-SMI 460.32.03    Driver Version: 460.32.03    CUDA Version: 11.2     |\n",
            "|-------------------------------+----------------------+----------------------+\n",
            "| GPU  Name        Persistence-M| Bus-Id        Disp.A | Volatile Uncorr. ECC |\n",
            "| Fan  Temp  Perf  Pwr:Usage/Cap|         Memory-Usage | GPU-Util  Compute M. |\n",
            "|                               |                      |               MIG M. |\n",
            "|===============================+======================+======================|\n",
            "|   0  Tesla P100-PCIE...  Off  | 00000000:00:04.0 Off |                    0 |\n",
            "| N/A   36C    P0    34W / 250W |  15981MiB / 16280MiB |      0%      Default |\n",
            "|                               |                      |                  N/A |\n",
            "+-------------------------------+----------------------+----------------------+\n",
            "                                                                               \n",
            "+-----------------------------------------------------------------------------+\n",
            "| Processes:                                                                  |\n",
            "|  GPU   GI   CI        PID   Type   Process name                  GPU Memory |\n",
            "|        ID   ID                                                   Usage      |\n",
            "|=============================================================================|\n",
            "+-----------------------------------------------------------------------------+\n"
          ]
        }
      ],
      "source": [
        "#GOOGLE COLAB VERSION\n",
        "gpu_info = !nvidia-smi\n",
        "gpu_info = '\\n'.join(gpu_info)\n",
        "if gpu_info.find('failed') >= 0:\n",
        "    print('Not connected to a GPU')\n",
        "else:\n",
        "    print(gpu_info)"
      ],
      "id": "D0wKl_EhZVeg"
    },
    {
      "cell_type": "code",
      "execution_count": 44,
      "metadata": {
        "colab": {
          "base_uri": "https://localhost:8080/"
        },
        "id": "f5b35caa",
        "outputId": "d6d5d804-de8b-4a65-c893-8d7f1b1bb90c"
      },
      "outputs": [
        {
          "output_type": "stream",
          "name": "stdout",
          "text": [
            "Drive already mounted at /content/drive; to attempt to forcibly remount, call drive.mount(\"/content/drive\", force_remount=True).\n",
            "Done unzipping Combined_Images.zip\n"
          ]
        }
      ],
      "source": [
        "#JUPYTER VERSION\n",
        "#comb_path = \"../Data/Combined_Images\"\n",
        "\n",
        "#GOOGLE COLAB VERSION\n",
        "from google.colab import drive\n",
        "drive.mount('/content/drive')\n",
        "\n",
        "# Unzipping the dataset file facial-age.zip\n",
        "\n",
        "combined_images_path = \"/content/drive/MyDrive/Combined_Images.zip\"\n",
        "\n",
        "with ZipFile(combined_images_path, 'r') as myzip:\n",
        "    myzip.extractall()\n",
        "    print('Done unzipping Combined_Images.zip')\n",
        "\n",
        "comb_path = '../content/Combined_Images'  "
      ],
      "id": "f5b35caa"
    },
    {
      "cell_type": "markdown",
      "metadata": {
        "id": "8acb50b6"
      },
      "source": [
        "In short, there is not a good way to get the size/length; tf.data.Dataset is built for pipelines of data, so has an iterator structure (in my understanding and according to my read of the Dataset ops code. From the programmer's guide:\n",
        "\n",
        "A tf.data.Iterator provides the main way to extract elements from a dataset. The operation returned by Iterator.get_next() yields the next element of a Dataset when executed, and typically acts as the interface between input pipeline code and your model.\n",
        "\n",
        "And, by their nature, iterators do not have a convenient notion of size/length; see here: Getting number of elements in an iterator in Python"
      ],
      "id": "8acb50b6"
    },
    {
      "cell_type": "code",
      "execution_count": 45,
      "metadata": {
        "colab": {
          "base_uri": "https://localhost:8080/"
        },
        "id": "e67296f7",
        "outputId": "277c0bcf-bb3e-47d5-de11-085d386f0b06"
      },
      "outputs": [
        {
          "output_type": "stream",
          "name": "stdout",
          "text": [
            "Found 33884 files belonging to 8 classes.\n",
            "Using 27108 files for training.\n",
            "Found 33884 files belonging to 8 classes.\n",
            "Using 6776 files for validation.\n",
            "Batches for training --> tf.Tensor(424, shape=(), dtype=int64)\n",
            "Batches for validating --> tf.Tensor(53, shape=(), dtype=int64)\n",
            "Batches for testing --> tf.Tensor(53, shape=(), dtype=int64)\n"
          ]
        }
      ],
      "source": [
        "batch_size = 64\n",
        "\n",
        "train_ds = tf.keras.utils.image_dataset_from_directory(\n",
        "  comb_path,\n",
        "  validation_split=0.2,\n",
        "  subset=\"training\", #If should be return the training set (80%) or the validation set (20%)\n",
        "  seed=41, #Seed should guarantee that train_ds and val_ds doesn't have common images\n",
        "  shuffle=True,\n",
        "  image_size=(200, 200),\n",
        "  batch_size=batch_size)\n",
        "\n",
        "val_ds = tf.keras.utils.image_dataset_from_directory(\n",
        "  comb_path,\n",
        "  validation_split=0.2,\n",
        "  subset=\"validation\",\n",
        "  seed=41, \n",
        "  shuffle=True,\n",
        "  image_size=(200, 200),\n",
        "  batch_size=batch_size)\n",
        "\n",
        "test_dataset = val_ds.take(53)\n",
        "val_ds = val_ds.skip(53)\n",
        "\n",
        "print('Batches for training -->', train_ds.cardinality())\n",
        "print('Batches for validating -->', val_ds.cardinality())\n",
        "print('Batches for testing -->', test_dataset.cardinality())"
      ],
      "id": "e67296f7"
    },
    {
      "cell_type": "code",
      "execution_count": 46,
      "metadata": {
        "colab": {
          "base_uri": "https://localhost:8080/"
        },
        "id": "b0c16699",
        "outputId": "a77b8542-f692-4d9f-e3ad-f28ba06965c0"
      },
      "outputs": [
        {
          "output_type": "stream",
          "name": "stdout",
          "text": [
            "Epoch 1/25\n",
            "424/424 [==============================] - 47s 108ms/step - loss: 1.8371 - sparse_categorical_accuracy: 0.2882 - val_loss: 1.6873 - val_sparse_categorical_accuracy: 0.3336\n",
            "Epoch 2/25\n",
            "424/424 [==============================] - 46s 107ms/step - loss: 1.6131 - sparse_categorical_accuracy: 0.3737 - val_loss: 1.5891 - val_sparse_categorical_accuracy: 0.3842\n",
            "Epoch 3/25\n",
            "424/424 [==============================] - 47s 108ms/step - loss: 1.4618 - sparse_categorical_accuracy: 0.4326 - val_loss: 1.5901 - val_sparse_categorical_accuracy: 0.3895\n",
            "Epoch 4/25\n",
            "424/424 [==============================] - 46s 107ms/step - loss: 1.3180 - sparse_categorical_accuracy: 0.4924 - val_loss: 1.6459 - val_sparse_categorical_accuracy: 0.3856\n",
            "Epoch 5/25\n",
            "424/424 [==============================] - 46s 107ms/step - loss: 1.1445 - sparse_categorical_accuracy: 0.5637 - val_loss: 1.7965 - val_sparse_categorical_accuracy: 0.3700\n",
            "Epoch 6/25\n",
            "424/424 [==============================] - 47s 108ms/step - loss: 0.9533 - sparse_categorical_accuracy: 0.6412 - val_loss: 2.0079 - val_sparse_categorical_accuracy: 0.3655\n",
            "Epoch 7/25\n",
            "424/424 [==============================] - 46s 107ms/step - loss: 0.7642 - sparse_categorical_accuracy: 0.7156 - val_loss: 2.3815 - val_sparse_categorical_accuracy: 0.3647\n",
            "Epoch 7: early stopping\n"
          ]
        }
      ],
      "source": [
        "model1 = tf.keras.Sequential([\n",
        "  tf.keras.layers.Rescaling(1./255, input_shape=(200, 200, 3)),\n",
        "  tf.keras.layers.Conv2D(16, 3, padding='same', activation='relu'),\n",
        "  tf.keras.layers.MaxPooling2D(),\n",
        "  tf.keras.layers.Conv2D(32, 3, padding='same', activation='relu'),\n",
        "  tf.keras.layers.MaxPooling2D(),\n",
        "  tf.keras.layers.Conv2D(64, 3, padding='same', activation='relu'),\n",
        "  tf.keras.layers.MaxPooling2D(),\n",
        "  tf.keras.layers.Flatten(),\n",
        "  tf.keras.layers.Dense(128, activation='relu'),\n",
        "  tf.keras.layers.Dense(8, activation='softmax')\n",
        "])\n",
        "\n",
        "#model.compile(optimizer=tf.keras.optimizers.Adam(),\n",
        "              #loss=tf.keras.losses.SparseCategoricalCrossentropy(),\n",
        "              #metrics=tf.keras.metrics.Accuracy())*/\n",
        "\n",
        "#Additionaly, if you do not one-hot encode your data, set sparse_categorical_crossentropy as loss and sparse_categorical_accuracy as metric.\n",
        "model1.compile(loss='sparse_categorical_crossentropy', optimizer='adam', metrics=['sparse_categorical_accuracy'])\n",
        "\n",
        "# Defining the early stop to monitor the validation loss to avoid overfitting.\n",
        "early_stop = EarlyStopping(monitor='val_loss', min_delta=0, patience=5, verbose=1, mode='auto')\n",
        "\n",
        "epochs=25\n",
        "history = model1.fit(\n",
        "  train_ds,\n",
        "  validation_data=val_ds,\n",
        "  callbacks=[early_stop],\n",
        "  epochs=epochs,\n",
        "  shuffle=False\n",
        ")"
      ],
      "id": "b0c16699"
    },
    {
      "cell_type": "code",
      "execution_count": 47,
      "metadata": {
        "colab": {
          "base_uri": "https://localhost:8080/"
        },
        "id": "a286274d",
        "outputId": "6e5b7fa5-4ce6-4c8e-a588-7efe21775efd"
      },
      "outputs": [
        {
          "output_type": "stream",
          "name": "stdout",
          "text": [
            "Training Set:  27108\n",
            "Validation Set:  3384\n",
            "Test Set:  3392 \n",
            "-------------------\n",
            "0    3910\n",
            "1    4021\n",
            "2    2388\n",
            "3    4029\n",
            "4    3798\n",
            "5    3858\n",
            "6    3991\n",
            "7    1113\n",
            "dtype: int64 \n",
            "-------------------\n",
            "0    520\n",
            "1    491\n",
            "2    285\n",
            "3    486\n",
            "4    494\n",
            "5    457\n",
            "6    504\n",
            "7    147\n",
            "dtype: int64 \n",
            "-------------------\n",
            "0    503\n",
            "1    491\n",
            "2    318\n",
            "3    502\n",
            "4    477\n",
            "5    463\n",
            "6    498\n",
            "7    140\n",
            "dtype: int64 \n",
            "-------------------\n"
          ]
        }
      ],
      "source": [
        "train_label = np.concatenate([y for x, y in train_ds], axis=0)\n",
        "val_label = np.concatenate([y for x, y in val_ds], axis=0)\n",
        "test_label = np.concatenate([y for x, y in test_dataset], axis=0)\n",
        "\n",
        "train_counts = pd.Series(train_label).value_counts().sort_index()\n",
        "val_counts = pd.Series(val_label).value_counts().sort_index()\n",
        "test_counts = pd.Series(test_label).value_counts().sort_index()\n",
        "\n",
        "print('Training Set: ', len(train_label))\n",
        "print('Validation Set: ', len(val_label))\n",
        "print('Test Set: ', len(test_label), '\\n-------------------')\n",
        "\n",
        "print(train_counts, '\\n-------------------')\n",
        "print(val_counts, '\\n-------------------')\n",
        "print(test_counts, '\\n-------------------')"
      ],
      "id": "a286274d"
    },
    {
      "cell_type": "code",
      "execution_count": 48,
      "metadata": {
        "id": "Hxs5aw7jjtl4"
      },
      "outputs": [],
      "source": [
        "def loss_acc_graphs(history_model):\n",
        "  fig, ax = plt.subplots(ncols=2, figsize=(15,7))\n",
        "\n",
        "  ax = ax.ravel()\n",
        "\n",
        "  ax[0].plot(history_model.history['loss'], marker='o', markersize=5)\n",
        "  ax[0].plot(history_model.history['val_loss'], marker='o', markersize=5)\n",
        "  ax[0].set_title('Model Loss', fontsize=18)\n",
        "  ax[0].set_ylabel('loss', fontsize=14)\n",
        "  ax[0].set_xlabel('epoch', fontsize=14)\n",
        "  ax[0].legend(['train', 'val'], loc='upper left', fontsize=15)\n",
        "\n",
        "  ax[1].plot(history_model.history['sparse_categorical_accuracy'], marker='o', markersize=5)\n",
        "  ax[1].plot(history_model.history['val_sparse_categorical_accuracy'], marker='o', markersize=5)\n",
        "  ax[1].set_title('Model Accuracy', fontsize=18)\n",
        "  ax[1].set_ylabel('accuracy', fontsize=14)\n",
        "  ax[1].set_xlabel('epoch', fontsize=14)\n",
        "  ax[1].legend(['train', 'val'], loc='upper left', fontsize=15)\n",
        "  plt.show()"
      ],
      "id": "Hxs5aw7jjtl4"
    },
    {
      "cell_type": "code",
      "execution_count": 49,
      "metadata": {
        "colab": {
          "base_uri": "https://localhost:8080/",
          "height": 466
        },
        "id": "iE67DWc_r0q8",
        "outputId": "e33714ec-cbac-4746-a44b-d0c9c7ab2a70"
      },
      "outputs": [
        {
          "output_type": "display_data",
          "data": {
            "text/plain": [
              "<Figure size 1080x504 with 2 Axes>"
            ],
            "image/png": "[encoded data removed]"
          },
          "metadata": {
            "needs_background": "light"
          }
        }
      ],
      "source": [
        "loss_acc_graphs(history)"
      ],
      "id": "iE67DWc_r0q8"
    },
    {
      "cell_type": "markdown",
      "metadata": {
        "id": "V9L8g5lpshSx"
      },
      "source": [
        "C'è un enorme overfitting, dato il grande margine di accuracy tra train e val set, per limitarlo proviamo a implementare nel modello alcune regolarizzazioni (L2) e il Dropout"
      ],
      "id": "V9L8g5lpshSx"
    },
    {
      "cell_type": "code",
      "execution_count": 50,
      "metadata": {
        "colab": {
          "base_uri": "https://localhost:8080/"
        },
        "id": "mvG1wtFWszsw",
        "outputId": "fc9455bc-36ca-48c5-c5e1-19906ccb18e4"
      },
      "outputs": [
        {
          "output_type": "stream",
          "name": "stdout",
          "text": [
            "Epoch 1/25\n",
            "424/424 [==============================] - 47s 108ms/step - loss: 2.2638 - sparse_categorical_accuracy: 0.2243 - val_loss: 2.0216 - val_sparse_categorical_accuracy: 0.2689\n",
            "Epoch 2/25\n",
            "424/424 [==============================] - 46s 108ms/step - loss: 1.9099 - sparse_categorical_accuracy: 0.2788 - val_loss: 1.8492 - val_sparse_categorical_accuracy: 0.2988\n",
            "Epoch 3/25\n",
            "424/424 [==============================] - 47s 109ms/step - loss: 1.8272 - sparse_categorical_accuracy: 0.3012 - val_loss: 1.8038 - val_sparse_categorical_accuracy: 0.3138\n",
            "Epoch 4/25\n",
            "424/424 [==============================] - 46s 108ms/step - loss: 1.7926 - sparse_categorical_accuracy: 0.3141 - val_loss: 1.7565 - val_sparse_categorical_accuracy: 0.3212\n",
            "Epoch 5/25\n",
            "424/424 [==============================] - 46s 108ms/step - loss: 1.7693 - sparse_categorical_accuracy: 0.3223 - val_loss: 1.7350 - val_sparse_categorical_accuracy: 0.3327\n",
            "Epoch 6/25\n",
            "424/424 [==============================] - 47s 109ms/step - loss: 1.7533 - sparse_categorical_accuracy: 0.3263 - val_loss: 1.7167 - val_sparse_categorical_accuracy: 0.3319\n",
            "Epoch 7/25\n",
            "424/424 [==============================] - 46s 108ms/step - loss: 1.7383 - sparse_categorical_accuracy: 0.3351 - val_loss: 1.7328 - val_sparse_categorical_accuracy: 0.3283\n",
            "Epoch 8/25\n",
            "424/424 [==============================] - 46s 108ms/step - loss: 1.7244 - sparse_categorical_accuracy: 0.3360 - val_loss: 1.7129 - val_sparse_categorical_accuracy: 0.3363\n",
            "Epoch 9/25\n",
            "424/424 [==============================] - 47s 109ms/step - loss: 1.7104 - sparse_categorical_accuracy: 0.3415 - val_loss: 1.7007 - val_sparse_categorical_accuracy: 0.3369\n",
            "Epoch 10/25\n",
            "424/424 [==============================] - 47s 108ms/step - loss: 1.6939 - sparse_categorical_accuracy: 0.3467 - val_loss: 1.6867 - val_sparse_categorical_accuracy: 0.3342\n",
            "Epoch 11/25\n",
            "424/424 [==============================] - 46s 108ms/step - loss: 1.6824 - sparse_categorical_accuracy: 0.3543 - val_loss: 1.7241 - val_sparse_categorical_accuracy: 0.3313\n",
            "Epoch 12/25\n",
            "424/424 [==============================] - 47s 109ms/step - loss: 1.6723 - sparse_categorical_accuracy: 0.3568 - val_loss: 1.6847 - val_sparse_categorical_accuracy: 0.3446\n",
            "Epoch 13/25\n",
            "424/424 [==============================] - 47s 108ms/step - loss: 1.6627 - sparse_categorical_accuracy: 0.3604 - val_loss: 1.6763 - val_sparse_categorical_accuracy: 0.3502\n",
            "Epoch 14/25\n",
            "424/424 [==============================] - 46s 108ms/step - loss: 1.6493 - sparse_categorical_accuracy: 0.3652 - val_loss: 1.6770 - val_sparse_categorical_accuracy: 0.3543\n",
            "Epoch 15/25\n",
            "424/424 [==============================] - 47s 109ms/step - loss: 1.6359 - sparse_categorical_accuracy: 0.3667 - val_loss: 1.6743 - val_sparse_categorical_accuracy: 0.3543\n",
            "Epoch 16/25\n",
            "424/424 [==============================] - 46s 108ms/step - loss: 1.6292 - sparse_categorical_accuracy: 0.3711 - val_loss: 1.6857 - val_sparse_categorical_accuracy: 0.3469\n",
            "Epoch 17/25\n",
            "424/424 [==============================] - 47s 109ms/step - loss: 1.6194 - sparse_categorical_accuracy: 0.3744 - val_loss: 1.6692 - val_sparse_categorical_accuracy: 0.3573\n",
            "Epoch 18/25\n",
            "424/424 [==============================] - 46s 108ms/step - loss: 1.6114 - sparse_categorical_accuracy: 0.3758 - val_loss: 1.6999 - val_sparse_categorical_accuracy: 0.3431\n",
            "Epoch 19/25\n",
            "424/424 [==============================] - 46s 108ms/step - loss: 1.6054 - sparse_categorical_accuracy: 0.3790 - val_loss: 1.6711 - val_sparse_categorical_accuracy: 0.3543\n",
            "Epoch 20/25\n",
            "424/424 [==============================] - 47s 109ms/step - loss: 1.5959 - sparse_categorical_accuracy: 0.3846 - val_loss: 1.6645 - val_sparse_categorical_accuracy: 0.3629\n",
            "Epoch 21/25\n",
            "424/424 [==============================] - 46s 107ms/step - loss: 1.5930 - sparse_categorical_accuracy: 0.3884 - val_loss: 1.6806 - val_sparse_categorical_accuracy: 0.3463\n",
            "Epoch 22/25\n",
            "424/424 [==============================] - 46s 107ms/step - loss: 1.5810 - sparse_categorical_accuracy: 0.3876 - val_loss: 1.6784 - val_sparse_categorical_accuracy: 0.3543\n",
            "Epoch 23/25\n",
            "424/424 [==============================] - 47s 109ms/step - loss: 1.5771 - sparse_categorical_accuracy: 0.3911 - val_loss: 1.7019 - val_sparse_categorical_accuracy: 0.3434\n",
            "Epoch 24/25\n",
            "424/424 [==============================] - 46s 107ms/step - loss: 1.5715 - sparse_categorical_accuracy: 0.3922 - val_loss: 1.6905 - val_sparse_categorical_accuracy: 0.3505\n",
            "Epoch 25/25\n",
            "424/424 [==============================] - 46s 108ms/step - loss: 1.5652 - sparse_categorical_accuracy: 0.3938 - val_loss: 1.7201 - val_sparse_categorical_accuracy: 0.3437\n",
            "Epoch 25: early stopping\n"
          ]
        }
      ],
      "source": [
        "model2 = tf.keras.Sequential([\n",
        "  tf.keras.layers.Rescaling(1./255, input_shape=(200, 200, 3)),\n",
        "  tf.keras.layers.Conv2D(16, 3, padding='same', activation='relu', kernel_regularizer=regularizers.l2(l=0.01)),\n",
        "  tf.keras.layers.MaxPooling2D(),\n",
        "  tf.keras.layers.Dropout(0.4),\n",
        "  tf.keras.layers.Conv2D(32, 3, padding='same', activation='relu', kernel_regularizer=regularizers.l2(l=0.01)),\n",
        "  tf.keras.layers.MaxPooling2D(),\n",
        "  tf.keras.layers.Dropout(0.4),\n",
        "  tf.keras.layers.Conv2D(64, 3, padding='same', activation='relu', kernel_regularizer=regularizers.l2(l=0.01)),\n",
        "  tf.keras.layers.MaxPooling2D(),\n",
        "  tf.keras.layers.Flatten(),\n",
        "  tf.keras.layers.Dense(128, activation='relu'),\n",
        "  tf.keras.layers.Dropout(0.2),\n",
        "  tf.keras.layers.Dense(8, activation='softmax')\n",
        "])\n",
        "\n",
        "#model.compile(optimizer=tf.keras.optimizers.Adam(),\n",
        "              #loss=tf.keras.losses.SparseCategoricalCrossentropy(),\n",
        "              #metrics=tf.keras.metrics.Accuracy())\n",
        "\n",
        "#Additionaly, if you do not one-hot encode your data, set sparse_categorical_crossentropy as loss and sparse_categorical_accuracy as metric.\n",
        "model2.compile(loss='sparse_categorical_crossentropy', optimizer='adam', metrics=['sparse_categorical_accuracy'])\n",
        "\n",
        "# Defining the early stop to monitor the validation loss to avoid overfitting.\n",
        "early_stop = EarlyStopping(monitor='val_loss', min_delta=0, patience=5, verbose=1, mode='auto')\n",
        "\n",
        "epochs=25\n",
        "history = model2.fit(\n",
        "  train_ds,\n",
        "  validation_data=val_ds,\n",
        "  callbacks=[early_stop],\n",
        "  epochs=epochs,\n",
        "  shuffle=False\n",
        ")"
      ],
      "id": "mvG1wtFWszsw"
    },
    {
      "cell_type": "code",
      "execution_count": 51,
      "metadata": {
        "id": "0welrrw4xUGR",
        "colab": {
          "base_uri": "https://localhost:8080/",
          "height": 466
        },
        "outputId": "f5c0ae67-00c1-4fb7-d013-2ff07504fa6b"
      },
      "outputs": [
        {
          "output_type": "display_data",
          "data": {
            "text/plain": [
              "<Figure size 1080x504 with 2 Axes>"
            ],
            "image/png": "[encoded data removed]"
          },
          "metadata": {
            "needs_background": "light"
          }
        }
      ],
      "source": [
        "loss_acc_graphs(history)"
      ],
      "id": "0welrrw4xUGR"
    },
    {
      "cell_type": "code",
      "source": [
        "#I need to get labels from validation dataset for construct the confusion matrix, but I can't get labels with normal order without recreating the dataset with disabled \n",
        "#the shuffle. Any idea? Probably, there are any ways to get prediction together with labels? (how is, model.evaluate() works with shuffle)\n",
        "# That is a workaround, doing the average acc for the batches\n",
        "\n",
        "#acc_tot = 0\n",
        "#count = 0\n",
        "#for images, labels in val_ds:\n",
        "    #count += 1\n",
        "    #preds = model.predict(images)\n",
        "    #acc_sc = accuracy_score(labels, tf.argmax(preds, axis=1))\n",
        "    #acc_tot += acc_sc\n",
        "\n",
        "#print(round(acc_tot/count, 4))"
      ],
      "metadata": {
        "id": "gEfv4qeklpYm"
      },
      "id": "gEfv4qeklpYm",
      "execution_count": 52,
      "outputs": []
    },
    {
      "cell_type": "code",
      "execution_count": 53,
      "metadata": {
        "id": "88DWdq6xySgk",
        "colab": {
          "base_uri": "https://localhost:8080/"
        },
        "outputId": "1643be86-ec1e-444b-86b5-0d9de5756321"
      },
      "outputs": [
        {
          "output_type": "stream",
          "name": "stdout",
          "text": [
            "MODEL 1 --- Without Regularization\n",
            "53/53 [==============================] - 8s 70ms/step - loss: 2.3879 - sparse_categorical_accuracy: 0.3614\n"
          ]
        },
        {
          "output_type": "execute_result",
          "data": {
            "text/plain": [
              "[2.3878517150878906, 0.3614066243171692]"
            ]
          },
          "metadata": {},
          "execution_count": 53
        }
      ],
      "source": [
        "print(\"MODEL 1 --- Without Regularization\")\n",
        "model1.evaluate(val_ds)"
      ],
      "id": "88DWdq6xySgk"
    },
    {
      "cell_type": "code",
      "source": [
        "print(\"MODEL 2 --- With Dropout Regularization\")\n",
        "model2.evaluate(val_ds)"
      ],
      "metadata": {
        "colab": {
          "base_uri": "https://localhost:8080/"
        },
        "id": "c983XWkh4tou",
        "outputId": "0b923c1b-afa2-431b-d1c7-6e2b1a4eb362"
      },
      "id": "c983XWkh4tou",
      "execution_count": 54,
      "outputs": [
        {
          "output_type": "stream",
          "name": "stdout",
          "text": [
            "MODEL 2 --- With Dropout Regularization\n",
            "53/53 [==============================] - 9s 71ms/step - loss: 1.7283 - sparse_categorical_accuracy: 0.3398\n"
          ]
        },
        {
          "output_type": "execute_result",
          "data": {
            "text/plain": [
              "[1.7283319234848022, 0.3398345112800598]"
            ]
          },
          "metadata": {},
          "execution_count": 54
        }
      ]
    }
  ],
  "metadata": {
    "accelerator": "GPU",
    "colab": {
      "collapsed_sections": [],
      "machine_shape": "hm",
      "provenance": []
    },
    "gpuClass": "standard",
    "kernelspec": {
      "display_name": "Python 3 (ipykernel)",
      "language": "python",
      "name": "python3"
    },
    "language_info": {
      "codemirror_mode": {
        "name": "ipython",
        "version": 3
      },
      "file_extension": ".py",
      "mimetype": "text/x-python",
      "name": "python",
      "nbconvert_exporter": "python",
      "pygments_lexer": "ipython3",
      "version": "3.7.11"
    }
  },
  "nbformat": 4,
  "nbformat_minor": 5
}