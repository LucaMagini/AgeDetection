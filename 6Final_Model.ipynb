{
  "nbformat": 4,
  "nbformat_minor": 0,
  "metadata": {
    "colab": {
      "provenance": [],
      "collapsed_sections": [],
      "machine_shape": "hm",
      "authorship_tag": "ABX9TyPMSFkrgDo4ycwItqKmQCuq",
      "include_colab_link": true
    },
    "kernelspec": {
      "name": "python3",
      "display_name": "Python 3"
    },
    "language_info": {
      "name": "python"
    },
    "accelerator": "GPU",
    "gpuClass": "standard"
  },
  "cells": [
    {
      "cell_type": "markdown",
      "metadata": {
        "id": "view-in-github",
        "colab_type": "text"
      },
      "source": [
        "<a href=\"https://colab.research.google.com/github/LucaMagini/AgeDetection/blob/main/6Final_Model.ipynb\" target=\"_parent\"><img src=\"https://colab.research.google.com/assets/colab-badge.svg\" alt=\"Open In Colab\"/></a>"
      ]
    },
    {
      "cell_type": "markdown",
      "source": [
        "# Final Model"
      ],
      "metadata": {
        "id": "oppZSYMDbyMf"
      }
    },
    {
      "cell_type": "markdown",
      "source": [
        "In the previous notebook the best model was **ResNet-50** with an accuracy of *57.23%*.  \n",
        "So I've decided to continue to perform **hyperparameter tuning** on this model changing the final layers, adding or deleting some regularization or trying some different learning rate values.  \n",
        "\n",
        "Not to make the notebook too long, here is only the best configuration which returns a very good accuracy considering the type of task and the fact that it's a 8-class classification problem.  \n",
        "\n",
        "Let's check the model"
      ],
      "metadata": {
        "id": "BvavRiZ7cBR9"
      }
    },
    {
      "cell_type": "code",
      "source": [
        "#Importing the libraries\n",
        "import tensorflow as tf\n",
        "import keras\n",
        "import numpy as np\n",
        "import matplotlib.pyplot as plt\n",
        "from tensorflow.keras.applications.resnet50 import ResNet50\n",
        "from keras.models import Model \n",
        "from tensorflow.keras.layers import Dense, Flatten, Dropout\n",
        "from tensorflow.keras.callbacks import ReduceLROnPlateau\n",
        "from sklearn.metrics import confusion_matrix\n",
        "from sklearn.metrics import ConfusionMatrixDisplay\n",
        "from zipfile import ZipFile\n",
        "from tabulate import tabulate"
      ],
      "metadata": {
        "id": "gGeC8JZqurrx"
      },
      "execution_count": null,
      "outputs": []
    },
    {
      "cell_type": "code",
      "execution_count": null,
      "metadata": {
        "colab": {
          "base_uri": "https://localhost:8080/"
        },
        "id": "JffnUFLAuAyB",
        "outputId": "1c26f978-4990-4589-a5ea-685b5c568205"
      },
      "outputs": [
        {
          "output_type": "stream",
          "name": "stdout",
          "text": [
            "Mounted at /content/drive\n"
          ]
        }
      ],
      "source": [
        "#Mounting the Google Drive\n",
        "from google.colab import drive\n",
        "drive.mount('/content/drive')"
      ]
    },
    {
      "cell_type": "code",
      "source": [
        "# Unzipping all the datasets\n",
        "train_augmented_new_path = '/content/drive/MyDrive/Age_Detection_Project/Data/Train_Augmented.zip'\n",
        "dev_path = '/content/drive/MyDrive/Age_Detection_Project/Data/Dev.zip'\n",
        "test_path = '/content/drive/MyDrive/Age_Detection_Project/Data/Test.zip'\n",
        "\n",
        "paths = [test_path, dev_path, train_augmented_new_path]\n",
        "\n",
        "for path in paths:         \n",
        "    with ZipFile(path, 'r') as myzip:\n",
        "        myzip.extractall('../content/{}'.format(path.split('/')[-1].split('.')[0]))\n",
        "        print('Done unzipping {}'.format(path.split('/')[-1]))"
      ],
      "metadata": {
        "colab": {
          "base_uri": "https://localhost:8080/"
        },
        "id": "tR1n1mOVukUQ",
        "outputId": "a59a231b-200d-4dcc-c240-8392f1dca4f8"
      },
      "execution_count": null,
      "outputs": [
        {
          "output_type": "stream",
          "name": "stdout",
          "text": [
            "Done unzipping Test.zip\n",
            "Done unzipping Dev.zip\n",
            "Done unzipping Train_Augmented.zip\n"
          ]
        }
      ]
    },
    {
      "cell_type": "code",
      "source": [
        "train_augmented_new_folder = '../content/Train_Augmented' \n",
        "dev_folder = '../content/Dev'\n",
        "test_folder = '../content/Test'\n"
      ],
      "metadata": {
        "id": "VbuwgWyLuy7o"
      },
      "execution_count": null,
      "outputs": []
    },
    {
      "cell_type": "code",
      "source": [
        "#Creating train, validation and test datasets\n",
        "batch_size = 256\n",
        "num_classes = 8\n",
        "epochs = 30\n",
        "input_shape = (224, 224, 3)\n",
        "\n",
        "train_ds = tf.keras.utils.image_dataset_from_directory(\n",
        "  train_augmented_new_folder,\n",
        "  validation_split=None,\n",
        "  subset=None, \n",
        "  seed=41, \n",
        "  shuffle=True,\n",
        "  image_size=(224, 224),\n",
        "  batch_size=batch_size\n",
        "  )\n",
        "\n",
        "val_ds = tf.keras.utils.image_dataset_from_directory(\n",
        "  dev_folder,\n",
        "  validation_split=None,\n",
        "  subset=None,\n",
        "  seed=41, \n",
        "  shuffle=True,\n",
        "  image_size=(224, 224),\n",
        "  batch_size=batch_size\n",
        "  )\n",
        "\n",
        "test_dataset = tf.keras.utils.image_dataset_from_directory(\n",
        "  test_folder,\n",
        "  validation_split=None,\n",
        "  subset=None,\n",
        "  seed=41, \n",
        "  shuffle=False,\n",
        "  image_size=(224, 224),\n",
        "  batch_size=batch_size\n",
        "  )\n",
        "\n",
        "print('Batches for training -->', train_ds.cardinality())\n",
        "print('Batches for validating -->', val_ds.cardinality())\n",
        "print('Batches for testing -->', test_dataset.cardinality())"
      ],
      "metadata": {
        "colab": {
          "base_uri": "https://localhost:8080/"
        },
        "id": "S1I0DTZWuzxx",
        "outputId": "2259d9ac-0aa8-4cc6-843f-4cb0bbd25448"
      },
      "execution_count": null,
      "outputs": [
        {
          "output_type": "stream",
          "name": "stdout",
          "text": [
            "Found 166026 files belonging to 8 classes.\n",
            "Found 5083 files belonging to 8 classes.\n",
            "Found 5083 files belonging to 8 classes.\n",
            "Batches for training --> tf.Tensor(649, shape=(), dtype=int64)\n",
            "Batches for validating --> tf.Tensor(20, shape=(), dtype=int64)\n",
            "Batches for testing --> tf.Tensor(20, shape=(), dtype=int64)\n"
          ]
        }
      ]
    },
    {
      "cell_type": "code",
      "source": [
        "#Defining a function to plot the model results\n",
        "def plot_model_stats(train_loss, val_loss, train_accuracy, val_accuracy, title):\n",
        "    fig, ax = plt.subplots(ncols=2, figsize=(15,7))\n",
        "\n",
        "    ax = ax.ravel()\n",
        "\n",
        "    ax[0].plot(train_loss, label='Train Loss', color='royalblue', marker='o', markersize=5)\n",
        "    ax[0].plot(val_loss, label='Validation Loss', color = 'orangered', marker='o', markersize=5)\n",
        "\n",
        "    ax[0].set_xlabel('Epochs', fontsize=14)\n",
        "    ax[0].set_ylabel('Categorical Crossentropy', fontsize=14)\n",
        "\n",
        "    ax[0].legend(fontsize=14)\n",
        "    ax[0].tick_params(axis='both', labelsize=12)\n",
        "\n",
        "    ax[1].plot(train_accuracy, label='Train Accuracy', color='royalblue', marker='o', markersize=5)\n",
        "    ax[1].plot(val_accuracy, label='Validation Accuracy', color='orangered', marker='o', markersize=5)\n",
        "\n",
        "    ax[1].set_xlabel('Epochs', fontsize=14)\n",
        "    ax[1].set_ylabel('Accuracy', fontsize=14)\n",
        "\n",
        "    ax[1].legend(fontsize=14)\n",
        "    ax[1].tick_params(axis='both', labelsize=12)\n",
        "\n",
        "    fig.suptitle(x=0.5, y=0.94, t=title, fontsize=16)"
      ],
      "metadata": {
        "id": "De51vYgzIrMj"
      },
      "execution_count": null,
      "outputs": []
    },
    {
      "cell_type": "code",
      "source": [
        "#Importing the ResNet-50 pre-trained model\n",
        "ResNet50_model = ResNet50(weights='imagenet', include_top=False, input_shape=input_shape, classes=num_classes)\n",
        "\n",
        "for layers in ResNet50_model.layers:\n",
        "    layers.trainable=False"
      ],
      "metadata": {
        "id": "zRxLrfaqP9l-",
        "colab": {
          "base_uri": "https://localhost:8080/"
        },
        "outputId": "8b53964d-dc0a-4f2f-ed7c-84246926b402"
      },
      "execution_count": null,
      "outputs": [
        {
          "output_type": "stream",
          "name": "stdout",
          "text": [
            "Downloading data from https://storage.googleapis.com/tensorflow/keras-applications/resnet/resnet50_weights_tf_dim_ordering_tf_kernels_notop.h5\n",
            "94765736/94765736 [==============================] - 0s 0us/step\n"
          ]
        }
      ]
    },
    {
      "cell_type": "code",
      "source": [
        "#Defining the final layers of the model\n",
        "resnet50 = Flatten()(ResNet50_model.output)\n",
        "resnet50 = Dropout(0.5)(resnet50)\n",
        "resnet50 = Dense(512,activation='relu')(resnet50)\n",
        "resnet50 = Dropout(0.2)(resnet50)\n",
        "resnet50 = Dense(128,activation='relu')(resnet50)\n",
        "resnet50 = Dropout(0.2)(resnet50)\n",
        "resnet50 = Dense(32,activation='relu')(resnet50)\n",
        "resnet50 = Dropout(0.5)(resnet50)\n",
        "resnet50 = Dense(8,activation='softmax')(resnet50)\n",
        "resnet50_final_model = Model(inputs=ResNet50_model.input, outputs=resnet50)\n",
        "resnet50_final_model.compile(loss='sparse_categorical_crossentropy', optimizer=keras.optimizers.Adam(learning_rate=0.0001), metrics=['sparse_categorical_accuracy'])"
      ],
      "metadata": {
        "id": "r1m-Hzz-Q4nn"
      },
      "execution_count": null,
      "outputs": []
    },
    {
      "cell_type": "code",
      "source": [
        "#Training the model & saving weights\n",
        "number_of_epochs = 50\n",
        "resnet_early_stopping = tf.keras.callbacks.EarlyStopping(monitor='val_loss', min_delta=0, patience=7, verbose=1, mode='min') \n",
        "reduce_lr = ReduceLROnPlateau(monitor='val_loss', factor=0.05, patience=4, min_lr=0.000002)\n",
        "callbacklist = [resnet_early_stopping,reduce_lr]\n",
        "resnet50_history = resnet50_final_model.fit(train_ds, epochs = number_of_epochs ,validation_data = val_ds,callbacks=callbacklist,verbose=1)"
      ],
      "metadata": {
        "colab": {
          "base_uri": "https://localhost:8080/"
        },
        "id": "Dev4KJosS4zx",
        "outputId": "0eeababf-2e37-4676-cd64-649da62fb365"
      },
      "execution_count": null,
      "outputs": [
        {
          "output_type": "stream",
          "name": "stdout",
          "text": [
            "Epoch 1/50\n",
            "649/649 [==============================] - 581s 870ms/step - loss: 1.7197 - sparse_categorical_accuracy: 0.3678 - val_loss: 1.2436 - val_sparse_categorical_accuracy: 0.5465 - lr: 1.0000e-04\n",
            "Epoch 2/50\n",
            "649/649 [==============================] - 564s 868ms/step - loss: 1.4238 - sparse_categorical_accuracy: 0.4598 - val_loss: 1.0892 - val_sparse_categorical_accuracy: 0.5810 - lr: 1.0000e-04\n",
            "Epoch 3/50\n",
            "649/649 [==============================] - 564s 868ms/step - loss: 1.3007 - sparse_categorical_accuracy: 0.4986 - val_loss: 0.9829 - val_sparse_categorical_accuracy: 0.6002 - lr: 1.0000e-04\n",
            "Epoch 4/50\n",
            "649/649 [==============================] - 564s 869ms/step - loss: 1.2087 - sparse_categorical_accuracy: 0.5302 - val_loss: 0.9169 - val_sparse_categorical_accuracy: 0.6341 - lr: 1.0000e-04\n",
            "Epoch 5/50\n",
            "649/649 [==============================] - 566s 870ms/step - loss: 1.1322 - sparse_categorical_accuracy: 0.5583 - val_loss: 0.8426 - val_sparse_categorical_accuracy: 0.6671 - lr: 1.0000e-04\n",
            "Epoch 6/50\n",
            "649/649 [==============================] - 565s 869ms/step - loss: 1.0662 - sparse_categorical_accuracy: 0.5821 - val_loss: 0.8033 - val_sparse_categorical_accuracy: 0.6915 - lr: 1.0000e-04\n",
            "Epoch 7/50\n",
            "649/649 [==============================] - 564s 869ms/step - loss: 1.0119 - sparse_categorical_accuracy: 0.6014 - val_loss: 0.7606 - val_sparse_categorical_accuracy: 0.7055 - lr: 1.0000e-04\n",
            "Epoch 8/50\n",
            "649/649 [==============================] - 564s 868ms/step - loss: 0.9610 - sparse_categorical_accuracy: 0.6233 - val_loss: 0.7249 - val_sparse_categorical_accuracy: 0.7202 - lr: 1.0000e-04\n",
            "Epoch 9/50\n",
            "649/649 [==============================] - 564s 869ms/step - loss: 0.9170 - sparse_categorical_accuracy: 0.6405 - val_loss: 0.6958 - val_sparse_categorical_accuracy: 0.7440 - lr: 1.0000e-04\n",
            "Epoch 10/50\n",
            "649/649 [==============================] - 564s 869ms/step - loss: 0.8771 - sparse_categorical_accuracy: 0.6560 - val_loss: 0.6693 - val_sparse_categorical_accuracy: 0.7627 - lr: 1.0000e-04\n",
            "Epoch 11/50\n",
            "649/649 [==============================] - 564s 868ms/step - loss: 0.8414 - sparse_categorical_accuracy: 0.6717 - val_loss: 0.6594 - val_sparse_categorical_accuracy: 0.7802 - lr: 1.0000e-04\n",
            "Epoch 12/50\n",
            "649/649 [==============================] - 564s 868ms/step - loss: 0.8075 - sparse_categorical_accuracy: 0.6849 - val_loss: 0.6369 - val_sparse_categorical_accuracy: 0.7846 - lr: 1.0000e-04\n",
            "Epoch 13/50\n",
            "649/649 [==============================] - 564s 868ms/step - loss: 0.7808 - sparse_categorical_accuracy: 0.6982 - val_loss: 0.6258 - val_sparse_categorical_accuracy: 0.7956 - lr: 1.0000e-04\n",
            "Epoch 14/50\n",
            "649/649 [==============================] - 565s 869ms/step - loss: 0.7522 - sparse_categorical_accuracy: 0.7084 - val_loss: 0.6194 - val_sparse_categorical_accuracy: 0.8023 - lr: 1.0000e-04\n",
            "Epoch 15/50\n",
            "649/649 [==============================] - 564s 868ms/step - loss: 0.7251 - sparse_categorical_accuracy: 0.7204 - val_loss: 0.6113 - val_sparse_categorical_accuracy: 0.8086 - lr: 1.0000e-04\n",
            "Epoch 16/50\n",
            "649/649 [==============================] - 564s 868ms/step - loss: 0.7074 - sparse_categorical_accuracy: 0.7282 - val_loss: 0.6078 - val_sparse_categorical_accuracy: 0.8155 - lr: 1.0000e-04\n",
            "Epoch 17/50\n",
            "649/649 [==============================] - 564s 868ms/step - loss: 0.6827 - sparse_categorical_accuracy: 0.7406 - val_loss: 0.5911 - val_sparse_categorical_accuracy: 0.8212 - lr: 1.0000e-04\n",
            "Epoch 18/50\n",
            "649/649 [==============================] - 564s 868ms/step - loss: 0.6640 - sparse_categorical_accuracy: 0.7471 - val_loss: 0.5924 - val_sparse_categorical_accuracy: 0.8330 - lr: 1.0000e-04\n",
            "Epoch 19/50\n",
            "649/649 [==============================] - 565s 869ms/step - loss: 0.6472 - sparse_categorical_accuracy: 0.7542 - val_loss: 0.5854 - val_sparse_categorical_accuracy: 0.8318 - lr: 1.0000e-04\n",
            "Epoch 20/50\n",
            "649/649 [==============================] - 565s 869ms/step - loss: 0.6287 - sparse_categorical_accuracy: 0.7625 - val_loss: 0.5834 - val_sparse_categorical_accuracy: 0.8371 - lr: 1.0000e-04\n",
            "Epoch 21/50\n",
            "649/649 [==============================] - 565s 869ms/step - loss: 0.6155 - sparse_categorical_accuracy: 0.7682 - val_loss: 0.5868 - val_sparse_categorical_accuracy: 0.8389 - lr: 1.0000e-04\n",
            "Epoch 22/50\n",
            "649/649 [==============================] - 565s 869ms/step - loss: 0.6013 - sparse_categorical_accuracy: 0.7743 - val_loss: 0.5730 - val_sparse_categorical_accuracy: 0.8464 - lr: 1.0000e-04\n",
            "Epoch 23/50\n",
            "649/649 [==============================] - 565s 870ms/step - loss: 0.5875 - sparse_categorical_accuracy: 0.7818 - val_loss: 0.5772 - val_sparse_categorical_accuracy: 0.8442 - lr: 1.0000e-04\n",
            "Epoch 24/50\n",
            "649/649 [==============================] - 565s 869ms/step - loss: 0.5738 - sparse_categorical_accuracy: 0.7866 - val_loss: 0.5646 - val_sparse_categorical_accuracy: 0.8422 - lr: 1.0000e-04\n",
            "Epoch 25/50\n",
            "649/649 [==============================] - 564s 868ms/step - loss: 0.5631 - sparse_categorical_accuracy: 0.7919 - val_loss: 0.5764 - val_sparse_categorical_accuracy: 0.8467 - lr: 1.0000e-04\n",
            "Epoch 26/50\n",
            "649/649 [==============================] - 564s 867ms/step - loss: 0.5481 - sparse_categorical_accuracy: 0.7984 - val_loss: 0.5685 - val_sparse_categorical_accuracy: 0.8489 - lr: 1.0000e-04\n",
            "Epoch 27/50\n",
            "649/649 [==============================] - 564s 868ms/step - loss: 0.5347 - sparse_categorical_accuracy: 0.8035 - val_loss: 0.5707 - val_sparse_categorical_accuracy: 0.8479 - lr: 1.0000e-04\n",
            "Epoch 28/50\n",
            "649/649 [==============================] - 563s 867ms/step - loss: 0.5277 - sparse_categorical_accuracy: 0.8046 - val_loss: 0.5640 - val_sparse_categorical_accuracy: 0.8540 - lr: 1.0000e-04\n",
            "Epoch 29/50\n",
            "649/649 [==============================] - 564s 868ms/step - loss: 0.5184 - sparse_categorical_accuracy: 0.8112 - val_loss: 0.5641 - val_sparse_categorical_accuracy: 0.8507 - lr: 1.0000e-04\n",
            "Epoch 30/50\n",
            "649/649 [==============================] - 564s 869ms/step - loss: 0.5076 - sparse_categorical_accuracy: 0.8148 - val_loss: 0.5843 - val_sparse_categorical_accuracy: 0.8501 - lr: 1.0000e-04\n",
            "Epoch 31/50\n",
            "649/649 [==============================] - 564s 869ms/step - loss: 0.4929 - sparse_categorical_accuracy: 0.8210 - val_loss: 0.5915 - val_sparse_categorical_accuracy: 0.8493 - lr: 1.0000e-04\n",
            "Epoch 32/50\n",
            "649/649 [==============================] - 564s 869ms/step - loss: 0.4897 - sparse_categorical_accuracy: 0.8225 - val_loss: 0.5790 - val_sparse_categorical_accuracy: 0.8460 - lr: 1.0000e-04\n",
            "Epoch 33/50\n",
            "649/649 [==============================] - 564s 868ms/step - loss: 0.4623 - sparse_categorical_accuracy: 0.8318 - val_loss: 0.5731 - val_sparse_categorical_accuracy: 0.8532 - lr: 5.0000e-06\n",
            "Epoch 34/50\n",
            "649/649 [==============================] - 564s 868ms/step - loss: 0.4537 - sparse_categorical_accuracy: 0.8369 - val_loss: 0.5746 - val_sparse_categorical_accuracy: 0.8538 - lr: 5.0000e-06\n",
            "Epoch 35/50\n",
            "649/649 [==============================] - 565s 870ms/step - loss: 0.4421 - sparse_categorical_accuracy: 0.8384 - val_loss: 0.5764 - val_sparse_categorical_accuracy: 0.8554 - lr: 5.0000e-06\n",
            "Epoch 35: early stopping\n"
          ]
        }
      ]
    },
    {
      "cell_type": "code",
      "source": [
        "#Saving the train and validation loss and accuracy values from ResNet-50 (final model)\n",
        "train_loss_resnet50 = resnet50_history.history['loss']\n",
        "val_loss_resnet50 = resnet50_history.history['val_loss']\n",
        "train_accuracy_resnet50 = resnet50_history.history['sparse_categorical_accuracy']\n",
        "val_accuracy_resnet50 = resnet50_history.history['val_sparse_categorical_accuracy']"
      ],
      "metadata": {
        "id": "3AHn8buVH6gM"
      },
      "execution_count": null,
      "outputs": []
    },
    {
      "cell_type": "code",
      "source": [
        "#Plotting a line chart to visualize the loss and accuracy values by epochs\n",
        "plot_model_stats(train_loss_resnet50, val_loss_resnet50, train_accuracy_resnet50, val_accuracy_resnet50, 'Results for ResNet-50 Final Model')"
      ],
      "metadata": {
        "colab": {
          "base_uri": "https://localhost:8080/",
          "height": 480
        },
        "id": "oCZBJCcVIUbq",
        "outputId": "28d7239c-c0d9-4b42-b6f1-c8490793b54a"
      },
      "execution_count": null,
      "outputs": [
        {
          "output_type": "display_data",
          "data": {
            "text/plain": [
              "<Figure size 1080x504 with 2 Axes>"
            ],
            "image/png": "[encoded data removed]"
          },
          "metadata": {
            "needs_background": "light"
          }
        }
      ]
    },
    {
      "cell_type": "code",
      "source": [
        "#Accuracy Evaluation\n",
        "print('\\n--------- ResNet-50 ----------\\n')\n",
        "resnet50_acc = round(resnet50_final_model.evaluate(test_dataset, verbose=0)[1] * 100, 2)\n",
        "print(\"Model Accuracy: {}%\".format(resnet50_acc))"
      ],
      "metadata": {
        "colab": {
          "base_uri": "https://localhost:8080/"
        },
        "id": "W4s_9HJYlvaQ",
        "outputId": "d3d019a1-b820-4f24-f17d-225045993af6"
      },
      "execution_count": null,
      "outputs": [
        {
          "output_type": "stream",
          "name": "stdout",
          "text": [
            "\n",
            "--------- ResNet-50 ----------\n",
            "\n",
            "Model Accuracy: 85.42%\n"
          ]
        }
      ]
    },
    {
      "cell_type": "code",
      "source": [
        "#Saving the weights of the model\n",
        "path = '../content/drive/MyDrive/Age_Detection_Project/Models/resnet50_weights.h5'\n",
        "resnet50_final_model.save_weights(path, save_format='h5')"
      ],
      "metadata": {
        "id": "ySL0G9B9ENtF"
      },
      "execution_count": null,
      "outputs": []
    },
    {
      "cell_type": "code",
      "source": [
        "#Creating list of labels\n",
        "labels = list(np.concatenate([y for x, y in test_dataset], axis=0))\n",
        "\n",
        "#Creating list of predictions\n",
        "res50net_pred = resnet50_final_model.predict(test_dataset)\n",
        "res50net_pred = list(res50net_pred.argmax(axis=-1))"
      ],
      "metadata": {
        "colab": {
          "base_uri": "https://localhost:8080/"
        },
        "id": "QGMcBT9N2eEr",
        "outputId": "262966a1-b07a-4e41-b51c-ade797572ad1"
      },
      "execution_count": null,
      "outputs": [
        {
          "output_type": "stream",
          "name": "stdout",
          "text": [
            "20/20 [==============================] - 18s 902ms/step\n"
          ]
        }
      ]
    },
    {
      "cell_type": "code",
      "source": [
        "#Creating confusion matrix\n",
        "conf_matrix = confusion_matrix(labels, res50net_pred, normalize=None)\n",
        "conf_matrix"
      ],
      "metadata": {
        "colab": {
          "base_uri": "https://localhost:8080/"
        },
        "id": "h2GCSMjmBiiF",
        "outputId": "f014302f-2c08-48ae-d17e-c35e30d387ab"
      },
      "execution_count": null,
      "outputs": [
        {
          "output_type": "execute_result",
          "data": {
            "text/plain": [
              "array([[ 888,   15,    8,    2,    0,    1,    2,    0],\n",
              "       [  21,  338,   27,    7,    4,    2,    1,    1],\n",
              "       [   8,   11, 1200,  109,   15,    7,    3,    0],\n",
              "       [   3,    4,   93,  706,   44,    7,    5,    1],\n",
              "       [   1,    1,   15,   61,  351,   21,    5,    2],\n",
              "       [   1,    7,   11,   11,   40,  375,   26,    7],\n",
              "       [   3,    2,    4,    9,   12,   34,  216,   15],\n",
              "       [   1,    1,    0,    4,    8,   11,   27,  268]])"
            ]
          },
          "metadata": {},
          "execution_count": 15
        }
      ]
    },
    {
      "cell_type": "code",
      "source": [
        "#Showing confusion matrix \n",
        "plot_labels = ['0-9', '10-19', '20-29', '30-39', '40-49', '50-59', '60-69', '70+']\n",
        "\n",
        "disp = ConfusionMatrixDisplay(confusion_matrix=conf_matrix, display_labels=plot_labels)\n",
        "fig, ax = plt.subplots(figsize=(16,9))\n",
        "\n",
        "disp.plot(cmap=plt.cm.Blues, ax=ax)"
      ],
      "metadata": {
        "colab": {
          "base_uri": "https://localhost:8080/",
          "height": 573
        },
        "id": "gKLZq5EHB80E",
        "outputId": "1f9ae1b6-b6c8-489d-aaf2-a899b271c79e"
      },
      "execution_count": null,
      "outputs": [
        {
          "output_type": "execute_result",
          "data": {
            "text/plain": [
              "<sklearn.metrics._plot.confusion_matrix.ConfusionMatrixDisplay at 0x7fa321d16890>"
            ]
          },
          "metadata": {},
          "execution_count": 16
        },
        {
          "output_type": "display_data",
          "data": {
            "text/plain": [
              "<Figure size 1152x648 with 2 Axes>"
            ],
            "image/png": "[encoded data removed]"
          },
          "metadata": {
            "needs_background": "light"
          }
        }
      ]
    },
    {
      "cell_type": "code",
      "source": [
        "#Defining a function to compute the 1 class-off accuracy\n",
        "def one_classoff_acc(labels, predictions):\n",
        "  val = 0\n",
        "  for n in range(len(labels)):\n",
        "    if (predictions[n] >= (labels[n] - 1)) and (predictions[n] <= (labels[n] + 1)):\n",
        "      val += 1\n",
        "  return str(round(val * 100 / len(labels), 2))  "
      ],
      "metadata": {
        "id": "N7srwXIrFDLu"
      },
      "execution_count": null,
      "outputs": []
    },
    {
      "cell_type": "code",
      "source": [
        "#1 Class-Off Accuracy\n",
        "print('\\n--------- ResNet-50 ----------\\n')\n",
        "acc_oneoff = one_classoff_acc(labels, res50net_pred)\n",
        "print(\"Model 1 Class-Off Accuracy: {}%\".format(acc_oneoff))"
      ],
      "metadata": {
        "colab": {
          "base_uri": "https://localhost:8080/"
        },
        "id": "pFUwK8_wG-fV",
        "outputId": "dbb901ba-e7c4-4e9d-f56d-3351b0b6b984"
      },
      "execution_count": null,
      "outputs": [
        {
          "output_type": "stream",
          "name": "stdout",
          "text": [
            "\n",
            "--------- ResNet-50 ----------\n",
            "\n",
            "Model 1 Class-Off Accuracy: 96.12%\n"
          ]
        }
      ]
    },
    {
      "cell_type": "code",
      "source": [
        "#Defining function to get percentage string from a number \n",
        "def perc(num):\n",
        "  return str(round(float(num)*100, 2))+'%'\n",
        "\n",
        "#Building the table of the result\n",
        "table = [['\\033[1m#\\033[0m', '\\033[1mModel Description\\033[0m', '\\033[1mTrain Loss\\033[0m', '\\033[1mVal Loss\\033[0m', '\\033[1mTrain Acc\\033[0m', '\\033[1mVal Acc\\033[0m', '\\033[1mTest Acc\\033[0m', '\\033[1m1Class-Off Test Acc\\033[0m'], \n",
        "         ['1', 'RESNET-50 (Final Model)', str(round(train_loss_resnet50[-1], 3)), round(val_loss_resnet50[-1], 3), perc(train_accuracy_resnet50[-1]), perc(val_accuracy_resnet50[-1]), perc(resnet50_acc/100), perc(float(acc_oneoff)/100)]\n",
        "        ]\n",
        "\n",
        "#Printing the table\n",
        "print(tabulate(table, headers='firstrow', tablefmt='fancy_grid'))"
      ],
      "metadata": {
        "colab": {
          "base_uri": "https://localhost:8080/"
        },
        "id": "nIL6fZrJHvD0",
        "outputId": "951446c5-cf35-4495-a1bf-cc2f6209f1de"
      },
      "execution_count": null,
      "outputs": [
        {
          "output_type": "stream",
          "name": "stdout",
          "text": [
            "╒═════╤═════════════════════════╤══════════════╤════════════╤═════════════╤═══════════╤════════════╤═══════════════════════╕\n",
            "│   \u001b[1m#\u001b[0m │ \u001b[1mModel Description\u001b[0m       │   \u001b[1mTrain Loss\u001b[0m │   \u001b[1mVal Loss\u001b[0m │ \u001b[1mTrain Acc\u001b[0m   │ \u001b[1mVal Acc\u001b[0m   │ \u001b[1mTest Acc\u001b[0m   │ \u001b[1m1Class-Off Test Acc\u001b[0m   │\n",
            "╞═════╪═════════════════════════╪══════════════╪════════════╪═════════════╪═══════════╪════════════╪═══════════════════════╡\n",
            "│   1 │ RESNET-50 (Final Model) │        0.442 │      0.576 │ 83.84%      │ 85.54%    │ 85.42%     │ 96.12%                │\n",
            "╘═════╧═════════════════════════╧══════════════╧════════════╧═════════════╧═══════════╧════════════╧═══════════════════════╛\n"
          ]
        }
      ]
    }
  ]
}