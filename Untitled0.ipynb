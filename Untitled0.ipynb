{
  "nbformat": 4,
  "nbformat_minor": 0,
  "metadata": {
    "colab": {
      "provenance": [],
      "collapsed_sections": [],
      "authorship_tag": "ABX9TyO0oJyKiKR2OctOBSOKrHs1",
      "include_colab_link": true
    },
    "kernelspec": {
      "name": "python3",
      "display_name": "Python 3"
    },
    "language_info": {
      "name": "python"
    }
  },
  "cells": [
    {
      "cell_type": "markdown",
      "metadata": {
        "id": "view-in-github",
        "colab_type": "text"
      },
      "source": [
        "<a href=\"https://colab.research.google.com/github/LucaMagini/AgeDetection/blob/main/Untitled0.ipynb\" target=\"_parent\"><img src=\"https://colab.research.google.com/assets/colab-badge.svg\" alt=\"Open In Colab\"/></a>"
      ]
    },
    {
      "cell_type": "code",
      "execution_count": null,
      "metadata": {
        "colab": {
          "base_uri": "https://localhost:8080/"
        },
        "id": "TQUhv9YA09uj",
        "outputId": "c18b5602-6449-47c2-8b85-d3f274a6a35f"
      },
      "outputs": [
        {
          "output_type": "stream",
          "name": "stdout",
          "text": [
            "╒════╤══════════════════════════╤═════════════════════╤══════════════╤════════════╤═════════════╤═══════════╤════════════╕\n",
            "│    │ \u001b[1m#\u001b[0m                        │   \u001b[1mModel Description\u001b[0m │   \u001b[1mTrain Loss\u001b[0m │   \u001b[1mVal Loss\u001b[0m │   \u001b[1mTrain Acc\u001b[0m │   \u001b[1mVal Acc\u001b[0m │   \u001b[1mTest Acc\u001b[0m │\n",
            "╞════╪══════════════════════════╪═════════════════════╪══════════════╪════════════╪═════════════╪═══════════╪════════════╡\n",
            "│  1 │ CNN basic infrastructure │                   1 │            2 │          3 │           2 │         3 │          4 │\n",
            "╘════╧══════════════════════════╧═════════════════════╧══════════════╧════════════╧═════════════╧═══════════╧════════════╛\n"
          ]
        }
      ],
      "source": [
        "from tabulate import tabulate\n",
        "\n",
        "#Building the table of the result\n",
        "table = [['\\033[1m#\\033[0m', '\\033[1mModel Description\\033[0m', '\\033[1mTrain Loss\\033[0m', '\\033[1mVal Loss\\033[0m', '\\033[1mTrain Acc\\033[0m', '\\033[1mVal Acc\\033[0m', '\\033[1mTest Acc\\033[0m'], \n",
        "         ['1', 'CNN basic infrastructure', 1, 2, 3, 2, 3, 4]\n",
        "        ]\n",
        "\n",
        "#Printing the table\n",
        "print(tabulate(table, headers='firstrow', tablefmt='fancy_grid'))  "
      ]
    },
    {
      "cell_type": "code",
      "source": [
        "#Printing the table\n",
        "print(tabulate(table, headers='firstrow', tablefmt='github'))"
      ],
      "metadata": {
        "colab": {
          "base_uri": "https://localhost:8080/"
        },
        "id": "D5p9iXAU1Q3h",
        "outputId": "f384efef-9c01-4583-b9eb-ef7a1a5eda4c"
      },
      "execution_count": null,
      "outputs": [
        {
          "output_type": "stream",
          "name": "stdout",
          "text": [
            "|    | \u001b[1m#\u001b[0m                        |   \u001b[1mModel Description\u001b[0m |   \u001b[1mTrain Loss\u001b[0m |   \u001b[1mVal Loss\u001b[0m |   \u001b[1mTrain Acc\u001b[0m |   \u001b[1mVal Acc\u001b[0m |   \u001b[1mTest Acc\u001b[0m |\n",
            "|----|--------------------------|---------------------|--------------|------------|-------------|-----------|------------|\n",
            "|  1 | CNN basic infrastructure |                   1 |            2 |          3 |           2 |         3 |          4 |\n"
          ]
        }
      ]
    },
    {
      "cell_type": "markdown",
      "source": [
        "&#x9658;"
      ],
      "metadata": {
        "id": "zepqgISBnIDM"
      }
    }
  ]
}